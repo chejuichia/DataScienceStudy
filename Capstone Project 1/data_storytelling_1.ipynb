{
 "cells": [
  {
   "cell_type": "markdown",
   "metadata": {},
   "source": [
    "Capstone Project 1: Data Storytelling 1\n",
    "\n",
    "Data source: https://www.yelp.com/dataset.\n",
    "\n",
    "Ask the following questions and look for the answers using code and plots:\n",
    "Can you count something interesting?\n",
    "Can you find trends (e.g. high, low, increasing, decreasing, anomalies)?\n",
    "Can you make a bar plot or a histogram?\n",
    "Can you compare two related quantities?\n",
    "Can you make a scatterplot?\n",
    "Can you make a time-series plot?\n",
    "\n",
    "Looking at the plots, what are some insights you can make? Do you see any correlations? Is there a hypothesis you’d like to investigate further? What other questions do the insights lead you to ask?\n",
    "\n",
    "Now that you’ve asked questions, hopefully you’ve found some interesting insights. Is there a narrative or a way of presenting the insights using text and plots that tells a compelling story? What are some other trends/relationships you think will make the story more complete?"
   ]
  },
  {
   "cell_type": "code",
   "execution_count": 12,
   "metadata": {},
   "outputs": [],
   "source": [
    "# Read the stored dataframes from Capstone Project 1: Data Wrangling in file data_wrangling\n",
    "%store -r goodr\n",
    "%store -r modr\n",
    "%store -r poorr\n",
    "%store -r goodr_checkins\n",
    "%store -r modr_checkins\n",
    "%store -r poorr_checkins\n",
    "%store -r restaurants"
   ]
  },
  {
   "cell_type": "code",
   "execution_count": 13,
   "metadata": {},
   "outputs": [],
   "source": [
    "# Import the necessary modules\n",
    "import pandas as pd\n",
    "import matplotlib.pyplot as plt\n",
    "import seaborn as sns\n",
    "from IPython.core.interactiveshell import InteractiveShell\n",
    "InteractiveShell.ast_node_interactivity = \"all\"\n"
   ]
  },
  {
   "cell_type": "code",
   "execution_count": 24,
   "metadata": {},
   "outputs": [
    {
     "name": "stdout",
     "output_type": "stream",
     "text": [
      "Of the 39630 restaurants, 16156 (41%) of them are in good standing, 21233 (54%) of them are in moderate standing, and 2241 (6%) of them are in poor standing.\n"
     ]
    },
    {
     "data": {
      "text/plain": [
       "<matplotlib.axes._subplots.AxesSubplot at 0x1d8030359b0>"
      ]
     },
     "execution_count": 24,
     "metadata": {},
     "output_type": "execute_result"
    },
    {
     "data": {
      "image/png": "[encoded data removed]",
      "text/plain": [
       "<Figure size 432x288 with 1 Axes>"
      ]
     },
     "metadata": {
      "needs_background": "light"
     },
     "output_type": "display_data"
    }
   ],
   "source": [
    "# I can count the number of restaurants in each standing category - good standing, moderate standing, and poor standing.\n",
    "# Make new standing column for each restaurant dataframe and assign the respective standing value as categorical data type.\n",
    "goodr['standing'] = 'Good'\n",
    "goodr['standing'] = goodr['standing'].astype('category')\n",
    "modr['standing'] = 'Moderate'\n",
    "modr['standing'] = modr['standing'].astype('category')\n",
    "poorr['standing'] = 'Poor'\n",
    "poorr['standing'] = poorr['standing'].astype('category')\n",
    "\n",
    "# Aggregate the counts\n",
    "countg = len(goodr.index)\n",
    "count5 = len(goodr[goodr.stars==5])\n",
    "count45 = len(goodr[goodr.stars==4.5])\n",
    "count4 = len(goodr[goodr.stars==4])\n",
    "countm = len(modr.index)\n",
    "count35 = len(modr[modr.stars==3.5])\n",
    "count3 = len(modr[modr.stars==3])\n",
    "count25 = len(modr[modr.stars==2.5])\n",
    "countp = len(poorr.index)\n",
    "count2 = len(poorr[poorr.stars==2])\n",
    "count15 = len(poorr[poorr.stars==1.5])\n",
    "count1 = len(poorr[poorr.stars==1])\n",
    "totalr = countg+countm+countp\n",
    "\n",
    "# Print the counts and the ratios between the counts.\n",
    "print('Of the '+str(totalr)+' restaurants, '\n",
    "      +str(countg)+' ('+str(round((countg/totalr)*100))+'%)'+' of them are in good standing, '\n",
    "      +str(countm)+' ('+str(round((countm/totalr)*100))+'%)'+' of them are in moderate standing, and '\n",
    "      +str(countp)+' ('+str(round((countp/totalr)*100))+'%)'+' of them are in poor standing.')\n",
    "\n",
    "# Show the counts of observations in each categorical bin using bars in a count plot.\n",
    "sns.countplot(x='standing',data=pd.concat([goodr,modr,poorr]))"
   ]
  },
  {
   "cell_type": "code",
   "execution_count": 23,
   "metadata": {},
   "outputs": [
    {
     "name": "stdout",
     "output_type": "stream",
     "text": [
      "Of the 16156 restaurants in good standing, 457 (3%) of them have 5 stars, 4838 (30%) of them have 4.5 stars, and 10861 (67%) of them have 4 stars.\n",
      "Of the 21233 restaurants in moderate standing, 10646 (50%) of them have 3.5 stars, 7035 (33%) of them have 3 stars, and 3552 (17%) of them have 2.5 stars.\n",
      "Of the 2241 restaurants in poor standing, 1643 (73%) of them have 2 stars, 539 (24%) of them have 1.5 stars, and 59 (3%) of them have 1 star.\n"
     ]
    },
    {
     "data": {
      "text/plain": [
       "<matplotlib.axes._subplots.AxesSubplot at 0x1d802ae4a20>"
      ]
     },
     "execution_count": 23,
     "metadata": {},
     "output_type": "execute_result"
    },
    {
     "data": {
      "image/png": "[encoded data removed]",
      "text/plain": [
       "<Figure size 432x288 with 1 Axes>"
      ]
     },
     "metadata": {
      "needs_background": "light"
     },
     "output_type": "display_data"
    }
   ],
   "source": [
    "# I can count the number of restaurants with a certain number of stars within each standing category.\n",
    "print('Of the '+str(countg)+' restaurants in good standing, '\n",
    "      +str(count5)+' ('+str(round((count5/countg)*100))+'%)'+' of them have 5 stars, ' \n",
    "      +str(count45)+' ('+str(round((count45/countg)*100))+'%)'+' of them have 4.5 stars, and '\n",
    "      +str(count4)+' ('+str(round((count4/countg)*100))+'%)'+' of them have 4 stars.')\n",
    "print('Of the '+str(countm)+' restaurants in moderate standing, '\n",
    "      +str(count35)+' ('+str(round((count35/countm)*100))+'%)'+' of them have 3.5 stars, ' \n",
    "      +str(count3)+' ('+str(round((count3/countm)*100))+'%)'+' of them have 3 stars, and '\n",
    "      +str(count25)+' ('+str(round((count25/countm)*100))+'%)'+' of them have 2.5 stars.')\n",
    "print('Of the '+str(countp)+' restaurants in poor standing, '\n",
    "      +str(count2)+' ('+str(round((count2/countp)*100))+'%)'+' of them have 2 stars, ' \n",
    "      +str(count15)+' ('+str(round((count15/countp)*100))+'%)'+' of them have 1.5 stars, and '\n",
    "      +str(count1)+' ('+str(round((count1/countp)*100))+'%)'+' of them have 1 star.')\n",
    "\n",
    "# Show the counts of observations in each categorical bin using bars in a count plot.\n",
    "sns.countplot(x='standing',hue='stars',data=pd.concat([goodr,modr,poorr]))"
   ]
  },
  {
   "cell_type": "code",
   "execution_count": 29,
   "metadata": {},
   "outputs": [
    {
     "name": "stdout",
     "output_type": "stream",
     "text": [
      "The 16156 restaurants in good standing have 6010037 checkins.\n",
      "The 21233 restaurants in moderate standing have 4864722 checkins.\n",
      "The 2241 restaurants in poor standing have 168545 checkins.\n"
     ]
    },
    {
     "data": {
      "text/plain": [
       "<matplotlib.axes._subplots.AxesSubplot at 0x1d80308ce80>"
      ]
     },
     "execution_count": 29,
     "metadata": {},
     "output_type": "execute_result"
    },
    {
     "data": {
      "image/png": "[encoded data removed]",
      "text/plain": [
       "<Figure size 432x288 with 1 Axes>"
      ]
     },
     "metadata": {
      "needs_background": "light"
     },
     "output_type": "display_data"
    }
   ],
   "source": [
    "# I can count the number of checkins for restaurants in good standing, moderate standing and poor standing.\n",
    "goodr_checkins['standing'] = 'Good'\n",
    "goodr_checkins['standing'] = goodr_checkins['standing'].astype('category')\n",
    "modr_checkins['standing'] = 'Moderate'\n",
    "modr_checkins['standing'] = modr_checkins['standing'].astype('category')\n",
    "poorr_checkins['standing'] = 'Poor'\n",
    "poorr_checkins['standing'] = poorr_checkins['standing'].astype('category')\n",
    "\n",
    "countgrc = len(goodr_checkins.index)\n",
    "countmrc = len(modr_checkins.index)\n",
    "countprc = len(poorr_checkins.index)\n",
    "\n",
    "print('The '+str(countg)+' restaurants in good standing have '+str(countgrc)+' checkins.')\n",
    "print('The '+str(countm)+' restaurants in moderate standing have '+str(countmrc)+' checkins.')\n",
    "print('The '+str(countp)+' restaurants in poor standing have '+str(countprc)+' checkins.')\n",
    "\n",
    "sns.countplot(x='standing',data=pd.concat([goodr_checkins,modr_checkins,poorr_checkins]))"
   ]
  },
  {
   "cell_type": "code",
   "execution_count": 34,
   "metadata": {},
   "outputs": [
    {
     "data": {
      "text/plain": [
       "426"
      ]
     },
     "execution_count": 34,
     "metadata": {},
     "output_type": "execute_result"
    }
   ],
   "source": [
    "# I can count the number of restaurants in each city.\n",
    "# I can count the number of reviews for restaurants in each standing category.\n",
    "# I can count the number of restaurants with a specific attribute in each standing category.\n"
   ]
  },
  {
   "cell_type": "code",
   "execution_count": null,
   "metadata": {},
   "outputs": [],
   "source": []
  }
 ],
 "metadata": {
  "kernelspec": {
   "display_name": "Python 3",
   "language": "python",
   "name": "python3"
  },
  "language_info": {
   "codemirror_mode": {
    "name": "ipython",
    "version": 3
   },
   "file_extension": ".py",
   "mimetype": "text/x-python",
   "name": "python",
   "nbconvert_exporter": "python",
   "pygments_lexer": "ipython3",
   "version": "3.7.3"
  }
 },
 "nbformat": 4,
 "nbformat_minor": 2
}
