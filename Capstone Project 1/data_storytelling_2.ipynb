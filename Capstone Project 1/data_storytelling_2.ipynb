{
 "cells": [
  {
   "cell_type": "markdown",
   "metadata": {},
   "source": [
    "Capstone Project 1: Data Storytelling 2\n",
    "\n",
    "Data source: https://www.yelp.com/dataset.\n",
    "\n",
    "Ask the following questions and look for the answers using code and plots:\n",
    "Can you count something interesting?\n",
    "Can you find trends (e.g. high, low, increasing, decreasing, anomalies)?\n",
    "Can you make a bar plot or a histogram?\n",
    "Can you compare two related quantities?\n",
    "Can you make a scatterplot?\n",
    "Can you make a time-series plot?\n",
    "\n",
    "Looking at the plots, what are some insights you can make? Do you see any correlations? Is there a hypothesis you’d like to investigate further? What other questions do the insights lead you to ask?\n",
    "\n",
    "Now that you’ve asked questions, hopefully you’ve found some interesting insights. Is there a narrative or a way of presenting the insights using text and plots that tells a compelling story? What are some other trends/relationships you think will make the story more complete?"
   ]
  },
  {
   "cell_type": "code",
   "execution_count": 2,
   "metadata": {},
   "outputs": [],
   "source": [
    "# Read the stored dataframes from Capstone Project 1: Data Wrangling in file data_wrangling\n",
    "%store -r goodr\n",
    "%store -r modr\n",
    "%store -r poorr\n",
    "%store -r goodr_checkins\n",
    "%store -r modr_checkins\n",
    "%store -r poorr_checkins\n",
    "%store -r restaurants\n",
    "%store -r goodrv\n",
    "%store -r modrv\n",
    "%store -r poorrv\n",
    "\n",
    "# Import the necessary modules\n",
    "import pandas as pd\n",
    "import matplotlib.pyplot as plt\n",
    "import seaborn as sns\n",
    "from IPython.core.interactiveshell import InteractiveShell\n",
    "InteractiveShell.ast_node_interactivity = \"all\""
   ]
  },
  {
   "cell_type": "code",
   "execution_count": null,
   "metadata": {},
   "outputs": [],
   "source": []
  }
 ],
 "metadata": {
  "kernelspec": {
   "display_name": "Python 3",
   "language": "python",
   "name": "python3"
  },
  "language_info": {
   "codemirror_mode": {
    "name": "ipython",
    "version": 3
   },
   "file_extension": ".py",
   "mimetype": "text/x-python",
   "name": "python",
   "nbconvert_exporter": "python",
   "pygments_lexer": "ipython3",
   "version": "3.7.3"
  }
 },
 "nbformat": 4,
 "nbformat_minor": 2
}
