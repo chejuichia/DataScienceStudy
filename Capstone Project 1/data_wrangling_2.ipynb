{
 "cells": [
  {
   "cell_type": "markdown",
   "metadata": {},
   "source": [
    "# Capstone Project 1: Data Wrangling 2\n",
    "\n",
    "Data source: https://www.yelp.com/dataset. The dataset used includes over 6 million reviews of 192,609 businesses. (According to Yelp)\n",
    "\n",
    "Data wrangling activities:\n",
    "- Read json file.\n",
    "- Format json strings.\n",
    "- Create dictionary from json strong.\n",
    "- Create list of dictionaries.\n",
    "- Create pandas dataframe from list of dictionaries.\n",
    "- Filter for restaurant reviews of restaurants in each standing category.\n",
    "- Parse date column.\n",
    "- Sort and reset index for all resulting dataframes before using for analysis.\n",
    "\n",
    "Data wrangling result:\n",
    "- 1 dataframe containing reviews of restaurants in good standing (4 or more stars).\n",
    "- 1 dataframe containing reviews of restaurants in moderate standing (between 2 and 4 stars).\n",
    "- 1 dataframe containing reviews of restaurants in poor standing (less than 2 stars)."
   ]
  },
  {
   "cell_type": "code",
   "execution_count": 1,
   "metadata": {},
   "outputs": [],
   "source": [
    "import pandas as pd\n",
    "import json\n",
    "import ast\n",
    "import datetime as dt\n",
    "from IPython.core.interactiveshell import InteractiveShell\n",
    "InteractiveShell.ast_node_interactivity = \"all\""
   ]
  },
  {
   "cell_type": "code",
   "execution_count": 2,
   "metadata": {},
   "outputs": [],
   "source": [
    "%store -r goodr\n",
    "%store -r modr\n",
    "%store -r poorr"
   ]
  },
  {
   "cell_type": "code",
   "execution_count": 3,
   "metadata": {},
   "outputs": [
    {
     "data": {
      "text/plain": [
       "'{\"review_id\":\"Q1sbwvVQXV2734tPgoKj4Q\",\"user_id\":\"hG7b0MtEbXx5QzbzE6C_VA\",\"business_id\":\"ujmEBvifdJM6h6RLv4wQIg\",\"stars\":1.0,\"useful\":6,\"funny\":1,\"cool\":0,\"text\":\"Total bill for this horrible service? Over $8Gs. These crooks actually had the nerve to charge us $69 for 3 pills. I checked online the pills can be had for 19 cents EACH! Avoid Hospital ERs at all costs.\",\"date\":\"2013-05-07 04:34:36\"}'"
      ]
     },
     "execution_count": 3,
     "metadata": {},
     "output_type": "execute_result"
    }
   ],
   "source": [
    "# Read file into list\n",
    "with open('dataset/review.json','r',encoding='utf8') as f:\n",
    "    reviews = f.readlines()\n",
    "\n",
    "# Remove the trailing \"\\n\" from each line\n",
    "reviews = list(map(lambda x: x.rstrip(), reviews))\n",
    "\n",
    "reviews[0]"
   ]
  },
  {
   "cell_type": "code",
   "execution_count": 4,
   "metadata": {},
   "outputs": [],
   "source": [
    "rv = list()\n",
    "for js in reviews: \n",
    "    # Exclude the line that has a syntax error\n",
    "    if not 'HzeABNLq_UlhrpZXCsWAnA' in js:\n",
    "        # Evaluate the json string literally as dictionary\n",
    "        d = ast.literal_eval(js)\n",
    "        # Delete unwanted keys and values\n",
    "        del d['text']\n",
    "        del d['review_id']\n",
    "        del d['user_id']\n",
    "        del d['useful']\n",
    "        del d['funny']\n",
    "        del d['cool']\n",
    "        # Add dictionary to list\n",
    "        rv.append(d)\n"
   ]
  },
  {
   "cell_type": "code",
   "execution_count": 5,
   "metadata": {},
   "outputs": [],
   "source": [
    "# Create dataframe using list of dictionaries\n",
    "df = pd.DataFrame(rv,columns=['business_id','stars','date'])"
   ]
  },
  {
   "cell_type": "code",
   "execution_count": 6,
   "metadata": {},
   "outputs": [],
   "source": [
    "# Create boolean arrays to filter\n",
    "grr = df['business_id'].isin(goodr['business_id'])\n",
    "mrr = df['business_id'].isin(modr['business_id'])\n",
    "prr = df['business_id'].isin(poorr['business_id'])\n",
    "\n",
    "# Filter for restaurant reviews using boolean arrays by restaurant standing and assign to dataframes\n",
    "goodrv = df[grr]\n",
    "modrv = df[mrr]\n",
    "poorrv = df[prr]"
   ]
  },
  {
   "cell_type": "code",
   "execution_count": 7,
   "metadata": {},
   "outputs": [],
   "source": [
    "# Sort by stars in descending order and reset index\n",
    "goodrv = goodrv.sort_values('stars',ascending=False).reset_index(drop=True)\n",
    "modrv = modrv.sort_values('stars',ascending=False).reset_index(drop=True)\n",
    "poorrv = poorrv.sort_values('stars',ascending=False).reset_index(drop=True)"
   ]
  },
  {
   "cell_type": "code",
   "execution_count": 8,
   "metadata": {},
   "outputs": [],
   "source": [
    "# Convert date strings to datetime values\n",
    "goodrv['date'] = goodrv['date'].apply(lambda d: dt.datetime.strptime(d.strip(),'%Y-%m-%d %H:%M:%S'))\n",
    "modrv['date'] = modrv['date'].apply(lambda d: dt.datetime.strptime(d.strip(),'%Y-%m-%d %H:%M:%S'))\n",
    "poorrv['date'] = poorrv['date'].apply(lambda d: dt.datetime.strptime(d.strip(),'%Y-%m-%d %H:%M:%S'))\n"
   ]
  },
  {
   "cell_type": "code",
   "execution_count": 9,
   "metadata": {},
   "outputs": [
    {
     "name": "stdout",
     "output_type": "stream",
     "text": [
      "Stored 'goodrv' (DataFrame)\n",
      "Stored 'modrv' (DataFrame)\n",
      "Stored 'poorrv' (DataFrame)\n"
     ]
    }
   ],
   "source": [
    "# Store the variables so they can be used in data storytelling and other jupyter notebooks\n",
    "%store goodrv\n",
    "%store modrv\n",
    "%store poorrv\n"
   ]
  }
 ],
 "metadata": {
  "kernelspec": {
   "display_name": "Python 3",
   "language": "python",
   "name": "python3"
  },
  "language_info": {
   "codemirror_mode": {
    "name": "ipython",
    "version": 3
   },
   "file_extension": ".py",
   "mimetype": "text/x-python",
   "name": "python",
   "nbconvert_exporter": "python",
   "pygments_lexer": "ipython3",
   "version": "3.7.4"
  }
 },
 "nbformat": 4,
 "nbformat_minor": 2
}
