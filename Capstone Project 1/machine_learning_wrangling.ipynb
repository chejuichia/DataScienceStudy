{
 "cells": [
  {
   "cell_type": "markdown",
   "metadata": {},
   "source": [
    "# Capstone Project 1: Data Wrangling for Machine Learning Analysis\n",
    "\n",
    "Data source: https://www.yelp.com/dataset.\n",
    "\n",
    "In this exploration of the yelp restaurants, we will compute some new metrics for the restaurants and categorize them to form the data that will be used in machine learning analysis:\n",
    "1. Create new column special_category that indicates whether a restaurant is of one of the categories of interest - True or False\n",
    "2. Create function to compute the number of days between first and last reviews of each restaurant and store the result in new column review_period\n",
    "3. Create new column review_frequency that is calculated by dividing review_count by review_period then multiplying by 30 to get the number of reviews every 30 days for each restaurant\n",
    "4. Create function to compute the average change in star rating per 180 day period for each restaurant and store the result in new column change_in_stars\n",
    "5. Create function to compute the restaurant density within one square km of each restaurant and store the result in new column square_km_count\n",
    "6. Create function to compute the standard deviation in the star ratings for each restaurant and store the result in new column stars_std\n",
    "7. Create new dataframe containing the new columns for machine learning analysis"
   ]
  },
  {
   "cell_type": "code",
   "execution_count": 1,
   "metadata": {},
   "outputs": [],
   "source": [
    "import pandas as pd\n",
    "import matplotlib.pyplot as plt\n",
    "import numpy as np\n",
    "import warnings\n",
    "import datetime as dt\n",
    "from IPython.core.interactiveshell import InteractiveShell\n",
    "from math import sin, cos, sqrt, atan2, radians\n",
    "InteractiveShell.ast_node_interactivity = \"all\"\n",
    "warnings.filterwarnings(\"ignore\")"
   ]
  },
  {
   "cell_type": "code",
   "execution_count": 2,
   "metadata": {},
   "outputs": [],
   "source": [
    "%store -r rests\n",
    "%store -r goodrv\n",
    "%store -r modrv\n",
    "%store -r poorrv"
   ]
  },
  {
   "cell_type": "code",
   "execution_count": 3,
   "metadata": {},
   "outputs": [],
   "source": [
    "# Concatenate reviews dataframes\n",
    "reviews = pd.concat([goodrv,modrv,poorrv],ignore_index=True)"
   ]
  },
  {
   "cell_type": "code",
   "execution_count": 4,
   "metadata": {},
   "outputs": [],
   "source": [
    "# Filter out restaurants that have no review data, leaving 31700 restaurants\n",
    "rests = rests[rests['business_id'].isin(reviews['business_id'])]"
   ]
  },
  {
   "cell_type": "code",
   "execution_count": 5,
   "metadata": {},
   "outputs": [],
   "source": [
    "# Make a new column special_category that indicates whether a restaurant is of one of the special categories of interest with True or False\n",
    "special_categories = ['Vegetarian','Vegan','Dessert','Food Truck','Tacos','Juice','Salad','Coffee','Ramen']\n",
    "special_category = []\n",
    "i = 0\n",
    "for y in rests['categories']:\n",
    "    special_category.append(False)\n",
    "    for x in special_categories:\n",
    "        if x in y:\n",
    "            special_category[i] = True\n",
    "            break\n",
    "    i += 1\n",
    "        \n",
    "rests['special_category'] = special_category"
   ]
  },
  {
   "cell_type": "code",
   "execution_count": 6,
   "metadata": {},
   "outputs": [],
   "source": [
    "reviews = reviews.sort_values('business_id').reset_index(drop=True)\n",
    "rests = rests.sort_values('business_id').reset_index(drop=True)"
   ]
  },
  {
   "cell_type": "code",
   "execution_count": 7,
   "metadata": {},
   "outputs": [],
   "source": [
    "# Function to compute review_period - number of days between the last and first reviews\n",
    "def compute_review_period(x):\n",
    "    x = x.sort_values('date')\n",
    "    result = {'review_period': abs((x.iloc[len(x)-1]['date']-x.iloc[0]['date']).days)}\n",
    "    return pd.Series(result)"
   ]
  },
  {
   "cell_type": "code",
   "execution_count": 8,
   "metadata": {},
   "outputs": [],
   "source": [
    "# Get the review period in days for each restaurant\n",
    "review_period = reviews.groupby('business_id').apply(compute_review_period)"
   ]
  },
  {
   "cell_type": "code",
   "execution_count": 9,
   "metadata": {},
   "outputs": [],
   "source": [
    "# Create new column review_frequency containing the number of reviews per 30 days for each restaurant\n",
    "rests['review_period'] = review_period['review_period'].tolist()\n",
    "rests['review_frequency'] = [(c/p)*30 for c,p in zip(rests['review_count'],rests['review_period'])]"
   ]
  },
  {
   "cell_type": "code",
   "execution_count": 10,
   "metadata": {},
   "outputs": [
    {
     "data": {
      "text/plain": [
       "(7, 2132.77734670704, 1203.7635428026304, 5039)"
      ]
     },
     "execution_count": 10,
     "metadata": {},
     "output_type": "execute_result"
    }
   ],
   "source": [
    "# Explore statistics of new column containing continuous values\n",
    "period_mean = rests['review_period'].mean()\n",
    "period_std = rests['review_period'].std()\n",
    "rests['review_period'].min(), period_mean, period_std, rests['review_period'].max()"
   ]
  },
  {
   "cell_type": "code",
   "execution_count": 11,
   "metadata": {},
   "outputs": [
    {
     "data": {
      "text/plain": [
       "(0.06976744186046512,\n",
       " 2.0145163057288356,\n",
       " 4.244431871772455,\n",
       " 195.0,\n",
       " 0.7570977917981072)"
      ]
     },
     "execution_count": 11,
     "metadata": {},
     "output_type": "execute_result"
    }
   ],
   "source": [
    "# Explore statistics of new column containing continuous values\n",
    "freq_mean = rests['review_frequency'].mean()\n",
    "freq_std = rests['review_frequency'].std()\n",
    "rests['review_frequency'].min(), freq_mean, freq_std, rests['review_frequency'].max(), rests['review_frequency'].median()"
   ]
  },
  {
   "cell_type": "code",
   "execution_count": 12,
   "metadata": {},
   "outputs": [
    {
     "data": {
      "image/png": "[encoded data removed]",
      "text/plain": [
       "<Figure size 432x288 with 1 Axes>"
      ]
     },
     "metadata": {
      "needs_background": "light"
     },
     "output_type": "display_data"
    }
   ],
   "source": [
    "plt.hist(rests['review_frequency'],bins=30)\n",
    "_ = plt.xlabel('number of reviews per 30 days')\n",
    "_ = plt.ylabel('number of Restaurants')\n",
    "_ = plt.title('Distribution of Review Frequency')\n",
    "_ = plt.axvline(freq_mean, color='k',linestyle='-')\n",
    "_ = plt.axvline(freq_mean+freq_std,color='r',linestyle='--')\n",
    "_ = plt.axvline(freq_mean-freq_std,color='r',linestyle='--')\n",
    "plt.show();"
   ]
  },
  {
   "cell_type": "code",
   "execution_count": 13,
   "metadata": {},
   "outputs": [],
   "source": [
    "# Create user defined function to calculate the mean star rating every 180 days, and the average change in the mean ratings\n",
    "def compute_180mean_change(x):\n",
    "    x = x.sort_values('date')\n",
    "    stars = list()\n",
    "    fromd = x.iloc[0]['date']\n",
    "    means = list()\n",
    "    lastd = x.iloc[0]['date']\n",
    "    for s,d in zip(x['stars'],x['date']):\n",
    "        if abs((d - fromd).days) <= 180:\n",
    "            stars.append(s)\n",
    "            lastd = d\n",
    "        else:\n",
    "            means.append(np.mean(stars))\n",
    "            stars = [s]\n",
    "            fromd = d\n",
    "            lastd = d\n",
    "    if stars:\n",
    "        means.append(np.mean(stars))\n",
    "    changes = np.diff(means)\n",
    "    return pd.Series({'change_in_stars':np.mean(changes)})"
   ]
  },
  {
   "cell_type": "code",
   "execution_count": 14,
   "metadata": {},
   "outputs": [],
   "source": [
    "# Get the average change in mean ratings per 180 day period\n",
    "change = reviews.groupby('business_id').apply(compute_180mean_change)"
   ]
  },
  {
   "cell_type": "code",
   "execution_count": 15,
   "metadata": {},
   "outputs": [],
   "source": [
    "# Create new column change_in_stars with the average change in mean ratings per 180 days\n",
    "rests['change_in_stars'] = change['change_in_stars'].tolist()\n",
    "rests['change_in_stars'] = rests['change_in_stars'].fillna(0)"
   ]
  },
  {
   "cell_type": "code",
   "execution_count": 16,
   "metadata": {},
   "outputs": [
    {
     "data": {
      "text/plain": [
       "(-3.6333333333333337, -0.05682996406186319, 0.30067332359706755, 2.75)"
      ]
     },
     "execution_count": 16,
     "metadata": {},
     "output_type": "execute_result"
    }
   ],
   "source": [
    "# Explore the mean and standard deviations of the new columns containing continuous values\n",
    "change_mean = np.mean(rests['change_in_stars'])\n",
    "change_std = np.std(rests['change_in_stars'])\n",
    "np.min(rests['change_in_stars']), change_mean, change_std, np.max(rests['change_in_stars'])"
   ]
  },
  {
   "cell_type": "code",
   "execution_count": 17,
   "metadata": {},
   "outputs": [
    {
     "data": {
      "image/png": "[encoded data removed]",
      "text/plain": [
       "<Figure size 432x288 with 1 Axes>"
      ]
     },
     "metadata": {
      "needs_background": "light"
     },
     "output_type": "display_data"
    }
   ],
   "source": [
    "plt.hist(rests['change_in_stars'],bins=30)\n",
    "_ = plt.xlabel('average change in stars every 180 days')\n",
    "_ = plt.ylabel('number of Restaurants')\n",
    "_ = plt.title('Distribution of Change in Stars')\n",
    "_ = plt.axvline(change_mean, color='k',linestyle='-')\n",
    "_ = plt.axvline(change_mean+change_std,color='r',linestyle='--')\n",
    "_ = plt.axvline(change_mean-change_std,color='r',linestyle='--')\n",
    "plt.show();"
   ]
  },
  {
   "cell_type": "code",
   "execution_count": 18,
   "metadata": {},
   "outputs": [],
   "source": [
    "# Create user defined function to calculate distance between two restaurants using latitudes and longitudes\n",
    "def rest_distance(lat1,lon1,lat2,lon2):\n",
    "    # approximate radius of earth in km\n",
    "    R = 6378\n",
    "\n",
    "    lat1 = radians(lat1)\n",
    "    lon1 = radians(lon1)\n",
    "    lat2 = radians(lat2)\n",
    "    lon2 = radians(lon2)\n",
    "\n",
    "    dlon = lon2 - lon1\n",
    "    dlat = lat2 - lat1\n",
    "\n",
    "    a = sin(dlat / 2)**2 + cos(lat1) * cos(lat2) * sin(dlon / 2)**2\n",
    "    c = 2 * atan2(sqrt(a), sqrt(1 - a))\n",
    "\n",
    "    distance = R * c\n",
    "\n",
    "    return distance\n",
    "# create user defined function for getting the restaurant density within one square km of a restaurant\n",
    "def rest_density(df):\n",
    "    sqrkm_count = list()\n",
    "    for lat, lon in zip(df['latitude'],df['longitude']):\n",
    "        rd = 0\n",
    "        for x, y in zip(df['latitude'],df['longitude']):\n",
    "            dist = rest_distance(lat, lon, x, y)\n",
    "            if 0 < dist <= 1:\n",
    "                rd += 1\n",
    "        sqrkm_count.append(rd)\n",
    "    return pd.Series({'square_km_count': sqrkm_count})"
   ]
  },
  {
   "cell_type": "code",
   "execution_count": 19,
   "metadata": {},
   "outputs": [],
   "source": [
    "# Get the restaurant density in the square km area of each restaurant location\n",
    "rests = rests.sort_values(['latitude','longitude','stars','review_count']).reset_index(drop=True)\n",
    "density = rests.groupby('city').apply(rest_density)"
   ]
  },
  {
   "cell_type": "code",
   "execution_count": 20,
   "metadata": {},
   "outputs": [],
   "source": [
    "rests['square_km_count'] = density['square_km_count'].tolist()"
   ]
  },
  {
   "cell_type": "code",
   "execution_count": 21,
   "metadata": {},
   "outputs": [
    {
     "data": {
      "text/plain": [
       "(0, 73.55374716124149, 115.83872376636022, 716)"
      ]
     },
     "execution_count": 21,
     "metadata": {},
     "output_type": "execute_result"
    }
   ],
   "source": [
    "# Explore the continuous values distribution in square_km_count\n",
    "den_mean = rests['square_km_count'].mean()\n",
    "den_std = rests['square_km_count'].std()\n",
    "rests['square_km_count'].min(), den_mean, den_std, rests['square_km_count'].max()"
   ]
  },
  {
   "cell_type": "code",
   "execution_count": 22,
   "metadata": {},
   "outputs": [
    {
     "data": {
      "image/png": "[encoded data removed]",
      "text/plain": [
       "<Figure size 432x288 with 1 Axes>"
      ]
     },
     "metadata": {
      "needs_background": "light"
     },
     "output_type": "display_data"
    }
   ],
   "source": [
    "plt.hist(rests['square_km_count'],bins=30)\n",
    "_ = plt.xlabel('restaurants in square km radius')\n",
    "_ = plt.ylabel('number of Restaurants')\n",
    "_ = plt.title('Distribution of Restaurant Density')\n",
    "_ = plt.axvline(den_mean, color='k',linestyle='-')\n",
    "_ = plt.axvline(den_mean+den_std,color='r',linestyle='--')\n",
    "_ = plt.axvline(den_mean-den_std,color='r',linestyle='--')\n",
    "plt.show();"
   ]
  },
  {
   "cell_type": "code",
   "execution_count": 23,
   "metadata": {},
   "outputs": [],
   "source": [
    "# Create function to compute ratings volatility in terms of standard deviation in stars over time\n",
    "def compute_std(x):\n",
    "    return pd.Series({'stars_std': x['stars'].std()})"
   ]
  },
  {
   "cell_type": "code",
   "execution_count": 24,
   "metadata": {},
   "outputs": [],
   "source": [
    "# Get the ratings standard deviations\n",
    "stds = reviews.groupby('business_id').apply(compute_std)"
   ]
  },
  {
   "cell_type": "code",
   "execution_count": 25,
   "metadata": {},
   "outputs": [],
   "source": [
    "# Create new column stars_std\n",
    "rests['stars_std'] = stds['stars_std'].tolist()"
   ]
  },
  {
   "cell_type": "code",
   "execution_count": 26,
   "metadata": {},
   "outputs": [
    {
     "data": {
      "text/plain": [
       "(0.0, 1.2607388280032847, 0.2624415786796114, 2.088931871468374)"
      ]
     },
     "execution_count": 26,
     "metadata": {},
     "output_type": "execute_result"
    }
   ],
   "source": [
    "# Explore the new continous values column\n",
    "std_mean = rests['stars_std'].mean()\n",
    "std_std = rests['stars_std'].std()\n",
    "rests['stars_std'].min(), std_mean, std_std, rests['stars_std'].max()"
   ]
  },
  {
   "cell_type": "code",
   "execution_count": 27,
   "metadata": {},
   "outputs": [
    {
     "data": {
      "image/png": "[encoded data removed]",
      "text/plain": [
       "<Figure size 432x288 with 1 Axes>"
      ]
     },
     "metadata": {
      "needs_background": "light"
     },
     "output_type": "display_data"
    }
   ],
   "source": [
    "plt.hist(rests['stars_std'],bins=30)\n",
    "_ = plt.xlabel('stars standard deviation')\n",
    "_ = plt.ylabel('number of Restaurants')\n",
    "_ = plt.title('Distribution of Stars Stds')\n",
    "_ = plt.axvline(std_mean, color='k',linestyle='-')\n",
    "_ = plt.axvline(std_mean+std_std,color='r',linestyle='--')\n",
    "_ = plt.axvline(std_mean-std_std,color='r',linestyle='--')\n",
    "plt.show();"
   ]
  },
  {
   "cell_type": "code",
   "execution_count": 28,
   "metadata": {},
   "outputs": [],
   "source": [
    "# Create new dataframe to house data that will be used in machine learning analysis\n",
    "ml = pd.DataFrame(data = {'business_id': rests['business_id'], \n",
    "                          'is_open': rests['is_open'],\n",
    "                          'special_category': rests['special_category'],\n",
    "                          'review_frequency': rests['review_frequency'],\n",
    "                          'change_over_time': rests['change_in_stars'],\n",
    "                          'density': rests['square_km_count'],\n",
    "                          'volatility': rests['stars_std']})"
   ]
  },
  {
   "cell_type": "code",
   "execution_count": 29,
   "metadata": {},
   "outputs": [
    {
     "data": {
      "text/html": [
       "<div>\n",
       "<style scoped>\n",
       "    .dataframe tbody tr th:only-of-type {\n",
       "        vertical-align: middle;\n",
       "    }\n",
       "\n",
       "    .dataframe tbody tr th {\n",
       "        vertical-align: top;\n",
       "    }\n",
       "\n",
       "    .dataframe thead th {\n",
       "        text-align: right;\n",
       "    }\n",
       "</style>\n",
       "<table border=\"1\" class=\"dataframe\">\n",
       "  <thead>\n",
       "    <tr style=\"text-align: right;\">\n",
       "      <th></th>\n",
       "      <th>business_id</th>\n",
       "      <th>is_open</th>\n",
       "      <th>special_category</th>\n",
       "      <th>review_frequency</th>\n",
       "      <th>change_over_time</th>\n",
       "      <th>density</th>\n",
       "      <th>volatility</th>\n",
       "    </tr>\n",
       "  </thead>\n",
       "  <tbody>\n",
       "    <tr>\n",
       "      <td>0</td>\n",
       "      <td>wF_CCcKxNF3sf6UxFjzXPA</td>\n",
       "      <td>1</td>\n",
       "      <td>False</td>\n",
       "      <td>0.449750</td>\n",
       "      <td>0.153846</td>\n",
       "      <td>1</td>\n",
       "      <td>1.288410</td>\n",
       "    </tr>\n",
       "    <tr>\n",
       "      <td>1</td>\n",
       "      <td>47lZIUShHGesiZypN6y7Bw</td>\n",
       "      <td>1</td>\n",
       "      <td>True</td>\n",
       "      <td>0.216606</td>\n",
       "      <td>-0.027778</td>\n",
       "      <td>0</td>\n",
       "      <td>1.354898</td>\n",
       "    </tr>\n",
       "    <tr>\n",
       "      <td>2</td>\n",
       "      <td>4sn2a0QzxTmAO3-mxi1s7g</td>\n",
       "      <td>1</td>\n",
       "      <td>False</td>\n",
       "      <td>0.642202</td>\n",
       "      <td>-0.042857</td>\n",
       "      <td>2</td>\n",
       "      <td>1.190238</td>\n",
       "    </tr>\n",
       "    <tr>\n",
       "      <td>3</td>\n",
       "      <td>NZP9oypyQCy-IXlzqQWvWQ</td>\n",
       "      <td>1</td>\n",
       "      <td>False</td>\n",
       "      <td>0.183038</td>\n",
       "      <td>0.187500</td>\n",
       "      <td>3</td>\n",
       "      <td>1.517915</td>\n",
       "    </tr>\n",
       "    <tr>\n",
       "      <td>4</td>\n",
       "      <td>Fn_IxcCtZl1EoS81sq_s9w</td>\n",
       "      <td>1</td>\n",
       "      <td>False</td>\n",
       "      <td>1.210915</td>\n",
       "      <td>0.000000</td>\n",
       "      <td>1</td>\n",
       "      <td>1.359256</td>\n",
       "    </tr>\n",
       "  </tbody>\n",
       "</table>\n",
       "</div>"
      ],
      "text/plain": [
       "              business_id  is_open  special_category  review_frequency  \\\n",
       "0  wF_CCcKxNF3sf6UxFjzXPA        1             False          0.449750   \n",
       "1  47lZIUShHGesiZypN6y7Bw        1              True          0.216606   \n",
       "2  4sn2a0QzxTmAO3-mxi1s7g        1             False          0.642202   \n",
       "3  NZP9oypyQCy-IXlzqQWvWQ        1             False          0.183038   \n",
       "4  Fn_IxcCtZl1EoS81sq_s9w        1             False          1.210915   \n",
       "\n",
       "   change_over_time  density  volatility  \n",
       "0          0.153846        1    1.288410  \n",
       "1         -0.027778        0    1.354898  \n",
       "2         -0.042857        2    1.190238  \n",
       "3          0.187500        3    1.517915  \n",
       "4          0.000000        1    1.359256  "
      ]
     },
     "execution_count": 29,
     "metadata": {},
     "output_type": "execute_result"
    }
   ],
   "source": [
    "ml.head()"
   ]
  },
  {
   "cell_type": "code",
   "execution_count": 30,
   "metadata": {},
   "outputs": [
    {
     "name": "stdout",
     "output_type": "stream",
     "text": [
      "Stored 'ml' (DataFrame)\n",
      "Stored 'rests' (DataFrame)\n"
     ]
    }
   ],
   "source": [
    "%store ml\n",
    "%store rests"
   ]
  },
  {
   "cell_type": "code",
   "execution_count": null,
   "metadata": {},
   "outputs": [],
   "source": []
  }
 ],
 "metadata": {
  "kernelspec": {
   "display_name": "Python 3",
   "language": "python",
   "name": "python3"
  },
  "language_info": {
   "codemirror_mode": {
    "name": "ipython",
    "version": 3
   },
   "file_extension": ".py",
   "mimetype": "text/x-python",
   "name": "python",
   "nbconvert_exporter": "python",
   "pygments_lexer": "ipython3",
   "version": "3.7.4"
  }
 },
 "nbformat": 4,
 "nbformat_minor": 2
}
