{
 "cells": [
  {
   "cell_type": "markdown",
   "metadata": {},
   "source": [
    "# Capstone Project 1: Data Wrangling 1\n",
    "\n",
    "Data source: https://www.yelp.com/dataset. The first dataset used includes 192,609 businesses with over 1.2 million business attributes like hours, parking, availability, and ambience. The second dataset used includes the aggregated check-ins over time for each of the 192,609 businesses. (According to Yelp)\n",
    "\n",
    "Data wrangling activities:\n",
    "- Read json files.\n",
    "- Format json strings.\n",
    "- Create pandas dataframes from json strings.\n",
    "- Filter businesses into restaurants dataframe.\n",
    "- Filter restaurants outliers - those with less than 10 reviews.\n",
    "- Triage restaurants into those of good, moderate and poor standing based on stars into 3 restaurant dataframes.\n",
    "- Triage checkins by restaurants standing (good, moderate, poor) into 3 restaurant checkin dataframes.\n",
    "- Parse and reshape date columns of restaurant checkin dataframes.\n",
    "- Sort and reset index for all resulting dataframes before using for analysis.\n",
    "\n",
    "Data wrangling result:\n",
    "- 1 dataframe containing restaurants in good standing (4 or more stars).\n",
    "- 1 dataframe containing restaurants in moderate standing (between 2 and 4 stars).\n",
    "- 1 dataframe containing restaurants in poor standing (less than 2 stars).\n",
    "- 1 dataframe containing checkins of restaurants in good standing with date column parsed and reshaped.\n",
    "- 1 dataframe containing checkins of restaurants in moderate standing with date column parsed and reshaped.\n",
    "- 1 dataframe containing checkins of restaurants in poor standing with date column parsed and reshaped."
   ]
  },
  {
   "cell_type": "code",
   "execution_count": 1,
   "metadata": {},
   "outputs": [],
   "source": [
    "import pandas as pd\n",
    "import json\n",
    "from IPython.core.interactiveshell import InteractiveShell\n",
    "InteractiveShell.ast_node_interactivity = \"all\"\n",
    "\n",
    "# Read file into list\n",
    "with open('dataset/business.json','r',encoding='utf8') as f:\n",
    "    businesses = f.readlines()\n",
    "with open('dataset/checkin.json','r',encoding='utf8') as f:\n",
    "    checkins = f.readlines()\n",
    "\n",
    "# Remove the trailing \"\\n\" from each line\n",
    "businesses = list(map(lambda x: x.rstrip(), businesses))\n",
    "checkins = list(map(lambda x: x.rstrip(), checkins))\n",
    "\n",
    "# Prepare json string\n",
    "bjson = '['+','.join(businesses)+']'\n",
    "cjson = '['+','.join(checkins)+']'\n",
    "\n",
    "# Load json string into pandas dataframe\n",
    "dfb = pd.read_json(bjson)\n",
    "dfc = pd.read_json(cjson)"
   ]
  },
  {
   "cell_type": "code",
   "execution_count": 2,
   "metadata": {},
   "outputs": [],
   "source": [
    "# Create boolean array for filtering for Restaurants\n",
    "isrest = dfb.categories.str.contains('Restaurants') & pd.notnull(dfb.categories)\n",
    "\n",
    "# Filter the businesses dataframe with boolean array and assign to restaurants dataframe\n",
    "restaurants = dfb[isrest]\n"
   ]
  },
  {
   "cell_type": "code",
   "execution_count": 3,
   "metadata": {},
   "outputs": [
    {
     "name": "stdout",
     "output_type": "stream",
     "text": [
      "(161950, 2)\n",
      "(59371, 14)\n",
      "Index(['address', 'attributes', 'business_id', 'categories', 'city', 'hours',\n",
      "       'is_open', 'latitude', 'longitude', 'name', 'postal_code',\n",
      "       'review_count', 'stars', 'state'],\n",
      "      dtype='object')\n"
     ]
    }
   ],
   "source": [
    "# Exploratory data analysis\n",
    "print(dfc.shape) # There is no checkin data for 30659 of the businesses\n",
    "print(restaurants.shape) # 59371 out of the 192609 businesses are restaurants\n",
    "print(restaurants.columns)"
   ]
  },
  {
   "cell_type": "code",
   "execution_count": 4,
   "metadata": {},
   "outputs": [],
   "source": [
    "# Filter out restaurants with less than 10 reviews.\n",
    "restaurants = restaurants[restaurants.review_count > 10]\n",
    "\n",
    "# Triage restaurants into 3 categories of standing using star ratings. Good, moderate and poor. Assign to dataframes.\n",
    "goodr = restaurants[restaurants.stars >= 4]\n",
    "poorr = restaurants[restaurants.stars <= 2]\n",
    "modr = restaurants[restaurants.stars < 4]\n",
    "modr = modr[modr.stars > 2]"
   ]
  },
  {
   "cell_type": "code",
   "execution_count": 5,
   "metadata": {},
   "outputs": [
    {
     "name": "stdout",
     "output_type": "stream",
     "text": [
      "(16156, 14)\n",
      "(21233, 14)\n",
      "(2241, 14)\n"
     ]
    }
   ],
   "source": [
    "print(goodr.shape)\n",
    "print(modr.shape)\n",
    "print(poorr.shape)\n"
   ]
  },
  {
   "cell_type": "code",
   "execution_count": 6,
   "metadata": {},
   "outputs": [
    {
     "name": "stdout",
     "output_type": "stream",
     "text": [
      "(16103, 2)\n",
      "(21156, 2)\n",
      "(2230, 2)\n"
     ]
    }
   ],
   "source": [
    "# Create boolean arrays for filtering for restaurant checkins\n",
    "isgoodrc = dfc['business_id'].isin(goodr['business_id'])\n",
    "ismodrc = dfc['business_id'].isin(modr['business_id'])\n",
    "ispoorrc = dfc['business_id'].isin(poorr['business_id'])\n",
    "\n",
    "# Filter the checkins dataframe with boolean arrays and assign to new dataframes\n",
    "goodrc = dfc[isgoodrc]\n",
    "modrc = dfc[ismodrc]\n",
    "poorrc = dfc[ispoorrc]\n",
    "\n",
    "print(goodrc.shape)\n",
    "print(modrc.shape)\n",
    "print(poorrc.shape)"
   ]
  },
  {
   "cell_type": "code",
   "execution_count": 7,
   "metadata": {},
   "outputs": [
    {
     "data": {
      "text/html": [
       "<div>\n",
       "<style scoped>\n",
       "    .dataframe tbody tr th:only-of-type {\n",
       "        vertical-align: middle;\n",
       "    }\n",
       "\n",
       "    .dataframe tbody tr th {\n",
       "        vertical-align: top;\n",
       "    }\n",
       "\n",
       "    .dataframe thead th {\n",
       "        text-align: right;\n",
       "    }\n",
       "</style>\n",
       "<table border=\"1\" class=\"dataframe\">\n",
       "  <thead>\n",
       "    <tr style=\"text-align: right;\">\n",
       "      <th></th>\n",
       "      <th>business_id</th>\n",
       "      <th>date</th>\n",
       "    </tr>\n",
       "  </thead>\n",
       "  <tbody>\n",
       "    <tr>\n",
       "      <th>0</th>\n",
       "      <td>--1UhMGODdWsrMastO9DZw</td>\n",
       "      <td>2016-04-26 19:49:16, 2016-08-30 18:36:57, 2016...</td>\n",
       "    </tr>\n",
       "    <tr>\n",
       "      <th>5</th>\n",
       "      <td>--9e1ONYQuAa-CB_Rrw7Tw</td>\n",
       "      <td>2010-02-08 05:56:47, 2010-02-15 04:47:42, 2010...</td>\n",
       "    </tr>\n",
       "    <tr>\n",
       "      <th>10</th>\n",
       "      <td>--FBCX-N37CMYDfs790Bnw</td>\n",
       "      <td>2010-05-31 07:57:10, 2010-05-31 07:58:37, 2010...</td>\n",
       "    </tr>\n",
       "    <tr>\n",
       "      <th>26</th>\n",
       "      <td>--cZ6Hhc9F7VkKXxHMVZSQ</td>\n",
       "      <td>2010-04-24 19:48:58, 2010-05-01 19:28:23, 2010...</td>\n",
       "    </tr>\n",
       "  </tbody>\n",
       "</table>\n",
       "</div>"
      ],
      "text/plain": [
       "               business_id                                               date\n",
       "0   --1UhMGODdWsrMastO9DZw  2016-04-26 19:49:16, 2016-08-30 18:36:57, 2016...\n",
       "5   --9e1ONYQuAa-CB_Rrw7Tw  2010-02-08 05:56:47, 2010-02-15 04:47:42, 2010...\n",
       "10  --FBCX-N37CMYDfs790Bnw  2010-05-31 07:57:10, 2010-05-31 07:58:37, 2010...\n",
       "26  --cZ6Hhc9F7VkKXxHMVZSQ  2010-04-24 19:48:58, 2010-05-01 19:28:23, 2010..."
      ]
     },
     "execution_count": 7,
     "metadata": {},
     "output_type": "execute_result"
    }
   ],
   "source": [
    "goodrc.head(4)"
   ]
  },
  {
   "cell_type": "code",
   "execution_count": 8,
   "metadata": {},
   "outputs": [],
   "source": [
    "# Import datetime parse date column in checkin dataframes\n",
    "import datetime as dt\n",
    "\n",
    "# Create function for parsing dates and reshaping checkin dataframe. \n",
    "# Returns new dataframe with one row for each checkin date of each restaurant.\n",
    "def transform_df(df):\n",
    "    rclist = []\n",
    "    for idx,row in df.iterrows():\n",
    "        dates = row['date'].split(',')\n",
    "        for d in dates:\n",
    "            rcdict = {}\n",
    "            rcdict.update({'business_id':row['business_id'],'date':dt.datetime.strptime(d.strip(),'%Y-%m-%d %H:%M:%S')})\n",
    "            rclist.append(rcdict)\n",
    "    rcdf = pd.DataFrame(rclist)\n",
    "    return rcdf"
   ]
  },
  {
   "cell_type": "code",
   "execution_count": 9,
   "metadata": {},
   "outputs": [],
   "source": [
    "# Call function on each checkin dataframe and assign result to new dataframe.\n",
    "goodr_checkins = transform_df(goodrc)\n",
    "modr_checkins = transform_df(modrc)\n",
    "poorr_checkins = transform_df(poorrc)"
   ]
  },
  {
   "cell_type": "code",
   "execution_count": 10,
   "metadata": {},
   "outputs": [],
   "source": [
    "# Sort restaurants dataframes by stars in descending order and reset index\n",
    "goodr = goodr.sort_values('stars',ascending=False).reset_index(drop=True)\n",
    "modr = modr.sort_values('stars',ascending=False).reset_index(drop=True)\n",
    "poorr = poorr.sort_values('stars',ascending=False).reset_index(drop=True)\n"
   ]
  },
  {
   "cell_type": "code",
   "execution_count": 164,
   "metadata": {},
   "outputs": [],
   "source": [
    "# Create user defined function to pivot out the attributes we want to analyze\n",
    "def pivot_attributes(akeys,df):\n",
    "    for k in akeys:\n",
    "        avals = [d.get(k) if d else None for d in df['attributes']]\n",
    "        df[k] = avals\n",
    "    return df"
   ]
  },
  {
   "cell_type": "code",
   "execution_count": 165,
   "metadata": {},
   "outputs": [],
   "source": [
    "attribute_keys = ['RestaurantsReservations','WiFi','HasTV','RestaurantsDelivery','RestaurantsTakeout',\n",
    "                  'RestaurantsGoodForGroups','OutdoorSeating','Alcohol','RestaurantsPriceRange2',\n",
    "                  'GoodForKids','NoiseLevel','RestaurantsAttire']\n",
    "for k in attribute_keys:\n",
    "    goodr[k] = ''\n",
    "    modr[k] = ''\n",
    "    poorr[k] = ''"
   ]
  },
  {
   "cell_type": "code",
   "execution_count": 166,
   "metadata": {},
   "outputs": [],
   "source": [
    "goodr = pivot_attributes(attribute_keys,goodr)"
   ]
  },
  {
   "cell_type": "code",
   "execution_count": 167,
   "metadata": {},
   "outputs": [],
   "source": [
    "modr = pivot_attributes(attribute_keys,modr)\n",
    "poorr = pivot_attributes(attribute_keys,poorr)"
   ]
  },
  {
   "cell_type": "code",
   "execution_count": 176,
   "metadata": {},
   "outputs": [],
   "source": [
    "# Create user defined function to clean up values in certain attribute columns\n",
    "def clean_values(cols,df):\n",
    "    for c in cols:\n",
    "        newvals = [v[2:-1] if (v and v[0] == 'u') else v[1:-1] if (v and v[0] == \"'\") else v if v else None for v in df[c]]\n",
    "        df[c] = newvals\n",
    "    return df\n"
   ]
  },
  {
   "cell_type": "code",
   "execution_count": 177,
   "metadata": {},
   "outputs": [],
   "source": [
    "cols = ['Alcohol','NoiseLevel','RestaurantsAttire']\n",
    "goodr = clean_values(cols,goodr)"
   ]
  },
  {
   "cell_type": "code",
   "execution_count": 179,
   "metadata": {},
   "outputs": [],
   "source": [
    "modr = clean_values(cols,modr)\n",
    "poorr = clean_values(cols,modr)"
   ]
  },
  {
   "cell_type": "code",
   "execution_count": 180,
   "metadata": {},
   "outputs": [
    {
     "name": "stdout",
     "output_type": "stream",
     "text": [
      "Stored 'goodr' (DataFrame)\n",
      "Stored 'modr' (DataFrame)\n",
      "Stored 'poorr' (DataFrame)\n",
      "Stored 'goodr_checkins' (DataFrame)\n",
      "Stored 'modr_checkins' (DataFrame)\n",
      "Stored 'poorr_checkins' (DataFrame)\n",
      "Stored 'restaurants' (DataFrame)\n"
     ]
    }
   ],
   "source": [
    "%store goodr\n",
    "%store modr\n",
    "%store poorr\n",
    "%store goodr_checkins\n",
    "%store modr_checkins\n",
    "%store poorr_checkins\n",
    "%store restaurants"
   ]
  },
  {
   "cell_type": "code",
   "execution_count": null,
   "metadata": {},
   "outputs": [],
   "source": []
  }
 ],
 "metadata": {
  "kernelspec": {
   "display_name": "Python 3",
   "language": "python",
   "name": "python3"
  },
  "language_info": {
   "codemirror_mode": {
    "name": "ipython",
    "version": 3
   },
   "file_extension": ".py",
   "mimetype": "text/x-python",
   "name": "python",
   "nbconvert_exporter": "python",
   "pygments_lexer": "ipython3",
   "version": "3.7.3"
  }
 },
 "nbformat": 4,
 "nbformat_minor": 2
}
