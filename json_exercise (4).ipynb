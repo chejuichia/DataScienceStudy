{
 "cells": [
  {
   "cell_type": "code",
   "execution_count": null,
   "metadata": {},
   "outputs": [],
   "source": [
    "import json\n",
    "import pandas as pd\n",
    "from pandas.io.json import json_normalize\n",
    "\n",
    "# Load json file as pandas dataframe\n",
    "df = pd.read_json('data/world_bank_projects.json')\n"
   ]
  },
  {
   "cell_type": "code",
   "execution_count": 137,
   "metadata": {},
   "outputs": [
    {
     "name": "stdout",
     "output_type": "stream",
     "text": [
      "People's Republic of China         19\n",
      "Republic of Indonesia              19\n",
      "Socialist Republic of Vietnam      17\n",
      "Republic of India                  16\n",
      "Republic of Yemen                  13\n",
      "Kingdom of Morocco                 12\n",
      "People's Republic of Bangladesh    12\n",
      "Nepal                              12\n",
      "Republic of Mozambique             11\n",
      "Africa                             11\n",
      "Name: countryname, dtype: int64\n"
     ]
    }
   ],
   "source": [
    "# Extract the 'countryname' column\n",
    "country = df['countryname']\n",
    "\n",
    "# Count the number of entries for each country\n",
    "country_counts = country.value_counts()\n",
    "\n",
    "# Print the 10 countries with the most projects\n",
    "print(country_counts.head(10))"
   ]
  },
  {
   "cell_type": "code",
   "execution_count": 138,
   "metadata": {},
   "outputs": [
    {
     "name": "stdout",
     "output_type": "stream",
     "text": [
      "{'code': '11', 'name': 'Environment and natural resources management'}    223\n",
      "{'code': '10', 'name': 'Rural development'}                               202\n",
      "{'code': '8', 'name': 'Human development'}                                197\n",
      "{'code': '2', 'name': 'Public sector governance'}                         184\n",
      "{'code': '6', 'name': 'Social protection and risk management'}            158\n",
      "{'code': '4', 'name': 'Financial and private sector development'}         130\n",
      "{'code': '7', 'name': 'Social dev/gender/inclusion'}                      119\n",
      "{'code': '5', 'name': 'Trade and integration'}                             72\n",
      "{'code': '9', 'name': 'Urban development'}                                 47\n",
      "{'code': '1', 'name': 'Economic management'}                               33\n",
      "dtype: int64\n"
     ]
    }
   ],
   "source": [
    "# Extract the 'mjtheme_namecode' projet theme column\n",
    "pthemes = df['mjtheme_namecode']\n",
    "\n",
    "# Create an empty list of themes\n",
    "themes = []\n",
    "\n",
    "# Append every theme dictionary object to the list\n",
    "for item in pthemes:\n",
    "    for theme_dict in item:\n",
    "        themes.append(theme_dict)\n",
    "\n",
    "# Coerce the list into a pandas Series object and perform count and rank\n",
    "themes_count = pd.Series(themes).value_counts()\n",
    "\n",
    "# Print the top 10 project themes \n",
    "print(themes_count.head(10))"
   ]
  },
  {
   "cell_type": "code",
   "execution_count": 148,
   "metadata": {},
   "outputs": [
    {
     "name": "stdout",
     "output_type": "stream",
     "text": [
      "      code                                   name       id  \\\n",
      "index                                                        \n",
      "0        8                      Human development  P129828   \n",
      "1       11  Social protection and risk management  P129828   \n",
      "2        1                    Economic management  P144674   \n",
      "3        6  Social protection and risk management  P144674   \n",
      "\n",
      "                                   countryname  \n",
      "index                                           \n",
      "0      Federal Democratic Republic of Ethiopia  \n",
      "1      Federal Democratic Republic of Ethiopia  \n",
      "2                          Republic of Tunisia  \n",
      "3                          Republic of Tunisia  \n"
     ]
    },
    {
     "name": "stderr",
     "output_type": "stream",
     "text": [
      "C:\\Users\\facehead\\Anaconda3\\lib\\site-packages\\ipykernel_launcher.py:22: SettingWithCopyWarning: \n",
      "A value is trying to be set on a copy of a slice from a DataFrame\n",
      "\n",
      "See the caveats in the documentation: http://pandas.pydata.org/pandas-docs/stable/indexing.html#indexing-view-versus-copy\n"
     ]
    }
   ],
   "source": [
    "# Load and assign json data to string\n",
    "json_str = json.load((open('data/world_bank_projects_less.json')))\n",
    "\n",
    "# Normalize the nested data in project themes column 'mjtheme_namecode' and create new dataframe\n",
    "themes_df = json_normalize(json_str,'mjtheme_namecode',['id','countryname'])\n",
    "\n",
    "# Sort dataframe by code and name columns in descending order so that the empty name values are last in its code group\n",
    "themes_df = themes_df.sort_values(['code','name'],ascending=False)\n",
    "\n",
    "# Reset index to prepare for looping\n",
    "themes_df = themes_df.reset_index()\n",
    "\n",
    "# Loop through each row of name column in dataframe\n",
    "i = 0\n",
    "last_name = ''\n",
    "while i < len(themes_df.name):\n",
    "    # If name has value, then assign it to last_name\n",
    "    if len(themes_df.name[i]) > 0:\n",
    "        last_name = themes_df.name[i]\n",
    "    # Else if name has no value, then assign last_name to the name entry with missing value\n",
    "    else:\n",
    "        themes_df.name[i] = last_name\n",
    "    i += 1\n",
    "\n",
    "# Sort data back to original order using old index\n",
    "themes_df = themes_df.set_index('index').sort_values('index')\n",
    "\n",
    "# Print to see missing names filled\n",
    "print(themes_df.head(10))"
   ]
  },
  {
   "cell_type": "code",
   "execution_count": null,
   "metadata": {},
   "outputs": [],
   "source": []
  }
 ],
 "metadata": {
  "kernelspec": {
   "display_name": "Python 3",
   "language": "python",
   "name": "python3"
  },
  "language_info": {
   "codemirror_mode": {
    "name": "ipython",
    "version": 3
   },
   "file_extension": ".py",
   "mimetype": "text/x-python",
   "name": "python",
   "nbconvert_exporter": "python",
   "pygments_lexer": "ipython3",
   "version": "3.7.3"
  }
 },
 "nbformat": 4,
 "nbformat_minor": 2
}
