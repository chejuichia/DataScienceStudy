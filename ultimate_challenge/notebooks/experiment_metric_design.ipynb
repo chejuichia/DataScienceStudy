{
 "cells": [
  {
   "cell_type": "markdown",
   "metadata": {},
   "source": [
    "# Part 2 ‑ Experiment and metrics design\n",
    "The neighboring cities of Gotham and Metropolis have complementary circadian rhythms: on weekdays, Ultimate Gotham is most active at night, and Ultimate Metropolis is most active during the day. On weekends, there is reasonable activity in both cities. However, a toll bridge, with a two way toll, between the two cities causes driver partners to tend to be exclusive to each city. \n",
    "\n",
    "The Ultimate managers of city operations for the two cities have proposed an experiment to encourage driver partners to be available in both cities, by reimbursing all toll costs."
   ]
  },
  {
   "cell_type": "markdown",
   "metadata": {},
   "source": [
    "### Q: What would you choose as the key measure of success of this experiment in encouraging driver partners to serve both cities, and why would you choose this metric?"
   ]
  },
  {
   "cell_type": "markdown",
   "metadata": {},
   "source": [
    "A: Based on the circadian rhythms of the cities, on weekdays the driver partners in Ultimate Gotham drive the most during the night when the city is most active, and the driver partners in Ultimate Metropolis drive the most during the day when the city is most active. On the weekends, driver partners in both cities are active throughout the day.\n",
    "\n",
    "The assumption made by the managers is that unreimbursed toll costs has significant impact on driver-city exclusivity. The null hypothesis of the experiment proposed by the Ultimate managers states that there is no significant difference in destination city of the rides before and after reimbursing all toll costs. The alternative hypothesis states that there is significant relationship between toll reimbursement and destination city of rides. \n",
    "\n",
    "Therefore, the key measure of success of this experiment is the change in driver activity in terms of the destination cities of the rides given. Do Gotham drivers give more rides to other destination cities during the toll reimbursement experiment? Do Metropolis drivers give more rides to other destination cities during the toll reimbursement experiment?"
   ]
  },
  {
   "cell_type": "markdown",
   "metadata": {},
   "source": [
    "### Q: Describe a practical experiment you would design to compare the effectiveness of the proposed change in relation to the key measure of success. Please provide details on:\n",
    "\n",
    "### 1. how you will implement the experiment"
   ]
  },
  {
   "cell_type": "markdown",
   "metadata": {},
   "source": [
    "A: I would first get a random sample of the drivers from both cities proportional to their total populations and of the rides they have given before and during the experiment. I would ensure that all sampled drivers have rides data in both timeframes. The dataset is extended with two features:\n",
    "1. toll_experiment - a boolean feature that describes whether the ride happened before or after tolls are being reimbursed\n",
    "2. exclusive - a boolean feature that describes whether the destination city of a ride is exclusive, aka equal, to the driver's originating city (here, I do not make the assumption that there are only two cities to choose from for rides)\n",
    "\n",
    "Then, I would split the data into two groups by toll_experiment equal True or False. I would add another feature to each of the two datasets:\n",
    "3. exclusivity - a numeric feature that describes how many of the rides of a driver have destination cities that are equal to the driver's originating city by calculating the percentage of True vs. False values in the exclusive feature column\n",
    "\n",
    "Finally, I have two datasets, one for each toll_experiment group - nonreimbursable and reimbursable, which are ready for hypothesis testing."
   ]
  },
  {
   "cell_type": "markdown",
   "metadata": {},
   "source": [
    "### 2. what statistical test(s) you will conduct to verify the significance of the observation"
   ]
  },
  {
   "cell_type": "markdown",
   "metadata": {},
   "source": [
    "A: I would use bootstrap inference and perform a two-sided t-test where the null hypothesis states that there is no significant difference in exclusivity of the rides before and while tolls are being reimbursed. The alternative hypothesis states that there is significant relationship between toll reimbursement and exclusivity of rides. The bootstrapped hypothesis test at the 5% significance level ($\\alpha = 0.05$) will be used to calculate the p-value of the observed difference between nonreimbursable and reimbursable toll."
   ]
  },
  {
   "cell_type": "markdown",
   "metadata": {},
   "source": [
    "### 3. how you would interpret the results and provide recommendations to the city operations team along with any caveats."
   ]
  },
  {
   "cell_type": "markdown",
   "metadata": {},
   "source": [
    "A: The test statistic would be the observed difference in the means of the exclusivity ratings between the two groups - nonreimbursable and reimbursable. If the p-value of the test statistic is less than 0.05, then I would reject the null hypothesis and state that there is significant relationship between toll reimbursement and exclusivity ratings of the drivers of these two cities. This means that reimbursed tolls affected the exclusivity of the drivers. If the p-value is greater than 0.05, then I would accept the null hypothesis and state that there is no difference in exclusivity ratings of the drivers of these two cities regardless of toll reimbursement. I would suggest to city operations team to look at other possible causes for driver exclusivity in these two cities."
   ]
  },
  {
   "cell_type": "code",
   "execution_count": null,
   "metadata": {},
   "outputs": [],
   "source": []
  }
 ],
 "metadata": {
  "kernelspec": {
   "display_name": "Python 3",
   "language": "python",
   "name": "python3"
  },
  "language_info": {
   "codemirror_mode": {
    "name": "ipython",
    "version": 3
   },
   "file_extension": ".py",
   "mimetype": "text/x-python",
   "name": "python",
   "nbconvert_exporter": "python",
   "pygments_lexer": "ipython3",
   "version": "3.7.6"
  }
 },
 "nbformat": 4,
 "nbformat_minor": 2
}
