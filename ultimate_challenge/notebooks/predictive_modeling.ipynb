{
 "cells": [
  {
   "cell_type": "markdown",
   "metadata": {},
   "source": [
    "# Part 3 ‑ Predictive modeling\n",
    "Ultimate is interested in predicting rider retention. To help explore this question, we have provided a sample dataset of a cohort of users who signed up for an Ultimate account in January 2014. The data was pulled several months later; we consider a user retained if they were “active” (i.e. took a trip) in the preceding 30 days.\n",
    "\n",
    "We would like you to use this data set to help understand what factors are the best predictors for retention, and offer suggestions to operationalize those insights to help Ultimate. The data is in the attached file ultimate_data_challenge.json. See below for a detailed description of the dataset. Please include any code you wrote for the analysis and delete the dataset when you have finished with the challenge."
   ]
  },
  {
   "cell_type": "code",
   "execution_count": 1,
   "metadata": {},
   "outputs": [],
   "source": [
    "%matplotlib inline\n",
    "\n",
    "import warnings\n",
    "import itertools\n",
    "import numpy as np\n",
    "import datetime\n",
    "warnings.filterwarnings(\"ignore\")\n",
    "\n",
    "import lightgbm as lgb\n",
    "\n",
    "import os\n",
    "import matplotlib.pyplot as plt\n",
    "import seaborn as sns\n",
    "import pandas as pd\n",
    "import json\n",
    "from pandas.io.json import json_normalize\n",
    "pd.set_option('display.expand_frame_repr', False)\n",
    "pd.set_option('display.max_columns', 500)\n",
    "pd.set_option('display.width', 1000)\n",
    "plt.style.use('fivethirtyeight')\n",
    "\n",
    "import statsmodels.api as sm\n",
    "from statsmodels.graphics.tsaplots import plot_acf\n",
    "from statsmodels.graphics.tsaplots import plot_pacf\n",
    "from statsmodels.tsa.stattools import adfuller\n",
    "from statsmodels.tsa.seasonal import seasonal_decompose\n",
    "\n",
    "from sklearn.metrics import r2_score, median_absolute_error, mean_absolute_error\n",
    "from sklearn.metrics import median_absolute_error, mean_squared_error, mean_squared_log_error\n",
    "from sklearn.model_selection import KFold\n",
    "from scipy import stats\n",
    "\n",
    "PROJ_ROOT = os.pardir"
   ]
  },
  {
   "cell_type": "markdown",
   "metadata": {},
   "source": [
    "## Import Data"
   ]
  },
  {
   "cell_type": "code",
   "execution_count": 2,
   "metadata": {},
   "outputs": [
    {
     "name": "stdout",
     "output_type": "stream",
     "text": [
      "Unable to load JSON into Pandas DataFrame\n"
     ]
    }
   ],
   "source": [
    "riders_data_path = os.path.join(PROJ_ROOT, \"data\", \"raw\", \"ultimate_data_challenge.json\")\n",
    "\n",
    "# Read json data into dataframe\n",
    "try:\n",
    "    df = pd.read_json(riders_data_path)\n",
    "except:\n",
    "    print(\"Unable to load JSON into Pandas DataFrame\")"
   ]
  },
  {
   "cell_type": "code",
   "execution_count": 3,
   "metadata": {},
   "outputs": [
    {
     "data": {
      "text/html": [
       "<div>\n",
       "<style scoped>\n",
       "    .dataframe tbody tr th:only-of-type {\n",
       "        vertical-align: middle;\n",
       "    }\n",
       "\n",
       "    .dataframe tbody tr th {\n",
       "        vertical-align: top;\n",
       "    }\n",
       "\n",
       "    .dataframe thead th {\n",
       "        text-align: right;\n",
       "    }\n",
       "</style>\n",
       "<table border=\"1\" class=\"dataframe\">\n",
       "  <thead>\n",
       "    <tr style=\"text-align: right;\">\n",
       "      <th></th>\n",
       "      <th>city</th>\n",
       "      <th>trips_in_first_30_days</th>\n",
       "      <th>signup_date</th>\n",
       "      <th>avg_rating_of_driver</th>\n",
       "      <th>avg_surge</th>\n",
       "      <th>last_trip_date</th>\n",
       "      <th>phone</th>\n",
       "      <th>surge_pct</th>\n",
       "      <th>ultimate_black_user</th>\n",
       "      <th>weekday_pct</th>\n",
       "      <th>avg_dist</th>\n",
       "      <th>avg_rating_by_driver</th>\n",
       "    </tr>\n",
       "  </thead>\n",
       "  <tbody>\n",
       "    <tr>\n",
       "      <th>0</th>\n",
       "      <td>King's Landing</td>\n",
       "      <td>4</td>\n",
       "      <td>2014-01-25</td>\n",
       "      <td>4.7</td>\n",
       "      <td>1.10</td>\n",
       "      <td>2014-06-17</td>\n",
       "      <td>iPhone</td>\n",
       "      <td>15.4</td>\n",
       "      <td>True</td>\n",
       "      <td>46.2</td>\n",
       "      <td>3.67</td>\n",
       "      <td>5.0</td>\n",
       "    </tr>\n",
       "    <tr>\n",
       "      <th>1</th>\n",
       "      <td>Astapor</td>\n",
       "      <td>0</td>\n",
       "      <td>2014-01-29</td>\n",
       "      <td>5.0</td>\n",
       "      <td>1.00</td>\n",
       "      <td>2014-05-05</td>\n",
       "      <td>Android</td>\n",
       "      <td>0.0</td>\n",
       "      <td>False</td>\n",
       "      <td>50.0</td>\n",
       "      <td>8.26</td>\n",
       "      <td>5.0</td>\n",
       "    </tr>\n",
       "    <tr>\n",
       "      <th>2</th>\n",
       "      <td>Astapor</td>\n",
       "      <td>3</td>\n",
       "      <td>2014-01-06</td>\n",
       "      <td>4.3</td>\n",
       "      <td>1.00</td>\n",
       "      <td>2014-01-07</td>\n",
       "      <td>iPhone</td>\n",
       "      <td>0.0</td>\n",
       "      <td>False</td>\n",
       "      <td>100.0</td>\n",
       "      <td>0.77</td>\n",
       "      <td>5.0</td>\n",
       "    </tr>\n",
       "    <tr>\n",
       "      <th>3</th>\n",
       "      <td>King's Landing</td>\n",
       "      <td>9</td>\n",
       "      <td>2014-01-10</td>\n",
       "      <td>4.6</td>\n",
       "      <td>1.14</td>\n",
       "      <td>2014-06-29</td>\n",
       "      <td>iPhone</td>\n",
       "      <td>20.0</td>\n",
       "      <td>True</td>\n",
       "      <td>80.0</td>\n",
       "      <td>2.36</td>\n",
       "      <td>4.9</td>\n",
       "    </tr>\n",
       "    <tr>\n",
       "      <th>4</th>\n",
       "      <td>Winterfell</td>\n",
       "      <td>14</td>\n",
       "      <td>2014-01-27</td>\n",
       "      <td>4.4</td>\n",
       "      <td>1.19</td>\n",
       "      <td>2014-03-15</td>\n",
       "      <td>Android</td>\n",
       "      <td>11.8</td>\n",
       "      <td>False</td>\n",
       "      <td>82.4</td>\n",
       "      <td>3.13</td>\n",
       "      <td>4.9</td>\n",
       "    </tr>\n",
       "  </tbody>\n",
       "</table>\n",
       "</div>"
      ],
      "text/plain": [
       "             city  trips_in_first_30_days signup_date  avg_rating_of_driver  avg_surge last_trip_date    phone  surge_pct  ultimate_black_user  weekday_pct  avg_dist  avg_rating_by_driver\n",
       "0  King's Landing                       4  2014-01-25                   4.7       1.10     2014-06-17   iPhone       15.4                 True         46.2      3.67                   5.0\n",
       "1         Astapor                       0  2014-01-29                   5.0       1.00     2014-05-05  Android        0.0                False         50.0      8.26                   5.0\n",
       "2         Astapor                       3  2014-01-06                   4.3       1.00     2014-01-07   iPhone        0.0                False        100.0      0.77                   5.0\n",
       "3  King's Landing                       9  2014-01-10                   4.6       1.14     2014-06-29   iPhone       20.0                 True         80.0      2.36                   4.9\n",
       "4      Winterfell                      14  2014-01-27                   4.4       1.19     2014-03-15  Android       11.8                False         82.4      3.13                   4.9"
      ]
     },
     "execution_count": 3,
     "metadata": {},
     "output_type": "execute_result"
    }
   ],
   "source": [
    "# Read json file by line\n",
    "users = open(riders_data_path,'r').readline()\n",
    "users = json.loads(users)\n",
    "\n",
    "# Create dataframe from json object\n",
    "df = pd.DataFrame(users)\n",
    "df.head()"
   ]
  },
  {
   "cell_type": "markdown",
   "metadata": {},
   "source": [
    "## Data description\n",
    "    ● city: city this user signed up in\n",
    "    ● phone: primary device for this user\n",
    "    ● signup_date: date of account registration; in the form ‘YYYY MM DD’\n",
    "    ● last_trip_date: the last time this user completed a trip; in the form ‘YYYY MM DD’\n",
    "    ● avg_dist: the average distance in miles per trip taken in the first 30 days after signup\n",
    "    ● avg_rating_by_driver: the rider’s average rating over all of their trips\n",
    "    ● avg_rating_of_driver: the rider’s average rating of their drivers over all of their trips\n",
    "    ● surge_pct: the percent of trips taken with surge multiplier > 1\n",
    "    ● avg_surge: The average surge multiplier over all of this user’s trips\n",
    "    ● trips_in_first_30_days: the number of trips this user took in the first 30 days after signing up\n",
    "    ● ultimate_black_user: TRUE if the user took an Ultimate Black in their first 30 days; FALSE otherwise\n",
    "    ● weekday_pct: the percent of the user’s trips occurring during a weekday"
   ]
  },
  {
   "cell_type": "markdown",
   "metadata": {},
   "source": [
    "## Data Type & Structure"
   ]
  },
  {
   "cell_type": "code",
   "execution_count": 4,
   "metadata": {},
   "outputs": [
    {
     "name": "stdout",
     "output_type": "stream",
     "text": [
      "<class 'pandas.core.frame.DataFrame'>\n",
      "RangeIndex: 50000 entries, 0 to 49999\n",
      "Data columns (total 12 columns):\n",
      "city                      50000 non-null object\n",
      "trips_in_first_30_days    50000 non-null int64\n",
      "signup_date               50000 non-null object\n",
      "avg_rating_of_driver      41878 non-null float64\n",
      "avg_surge                 50000 non-null float64\n",
      "last_trip_date            50000 non-null object\n",
      "phone                     49604 non-null object\n",
      "surge_pct                 50000 non-null float64\n",
      "ultimate_black_user       50000 non-null bool\n",
      "weekday_pct               50000 non-null float64\n",
      "avg_dist                  50000 non-null float64\n",
      "avg_rating_by_driver      49799 non-null float64\n",
      "dtypes: bool(1), float64(6), int64(1), object(4)\n",
      "memory usage: 4.2+ MB\n"
     ]
    }
   ],
   "source": [
    "df.info()"
   ]
  },
  {
   "cell_type": "code",
   "execution_count": 5,
   "metadata": {},
   "outputs": [
    {
     "name": "stdout",
     "output_type": "stream",
     "text": [
      "<class 'pandas.core.frame.DataFrame'>\n",
      "RangeIndex: 50000 entries, 0 to 49999\n",
      "Data columns (total 12 columns):\n",
      "city                      50000 non-null object\n",
      "trips_in_first_30_days    50000 non-null int64\n",
      "signup_date               50000 non-null object\n",
      "avg_rating_of_driver      50000 non-null float64\n",
      "avg_surge                 50000 non-null float64\n",
      "last_trip_date            50000 non-null object\n",
      "phone                     49604 non-null object\n",
      "surge_pct                 50000 non-null float64\n",
      "ultimate_black_user       50000 non-null bool\n",
      "weekday_pct               50000 non-null float64\n",
      "avg_dist                  50000 non-null float64\n",
      "avg_rating_by_driver      50000 non-null float64\n",
      "dtypes: bool(1), float64(6), int64(1), object(4)\n",
      "memory usage: 4.2+ MB\n"
     ]
    }
   ],
   "source": [
    "# Fill null values in avg_rating_of_driver with mean value of available ratings\n",
    "df['avg_rating_of_driver'] = df['avg_rating_of_driver'].fillna(np.mean(df.avg_rating_of_driver))\n",
    "\n",
    "# Fill null values in avg_rating_by_driver with mean value of available ratings\n",
    "df['avg_rating_by_driver'] = df['avg_rating_by_driver'].fillna(np.mean(df.avg_rating_by_driver))\n",
    "\n",
    "df.info()"
   ]
  },
  {
   "cell_type": "code",
   "execution_count": 6,
   "metadata": {},
   "outputs": [
    {
     "data": {
      "text/plain": [
       "iPhone     0.697162\n",
       "Android    0.302838\n",
       "Name: phone, dtype: float64"
      ]
     },
     "execution_count": 6,
     "metadata": {},
     "output_type": "execute_result"
    }
   ],
   "source": [
    "# Check proportion of unique values in phone\n",
    "df['phone'].value_counts(normalize=True)"
   ]
  },
  {
   "cell_type": "code",
   "execution_count": 7,
   "metadata": {},
   "outputs": [
    {
     "name": "stdout",
     "output_type": "stream",
     "text": [
      "<class 'pandas.core.frame.DataFrame'>\n",
      "RangeIndex: 50000 entries, 0 to 49999\n",
      "Data columns (total 12 columns):\n",
      "city                      50000 non-null object\n",
      "trips_in_first_30_days    50000 non-null int64\n",
      "signup_date               50000 non-null object\n",
      "avg_rating_of_driver      50000 non-null float64\n",
      "avg_surge                 50000 non-null float64\n",
      "last_trip_date            50000 non-null object\n",
      "phone                     50000 non-null object\n",
      "surge_pct                 50000 non-null float64\n",
      "ultimate_black_user       50000 non-null bool\n",
      "weekday_pct               50000 non-null float64\n",
      "avg_dist                  50000 non-null float64\n",
      "avg_rating_by_driver      50000 non-null float64\n",
      "dtypes: bool(1), float64(6), int64(1), object(4)\n",
      "memory usage: 4.2+ MB\n"
     ]
    }
   ],
   "source": [
    "# Fill null values in phone proportional to existing values\n",
    "df['phone'] = df['phone'].fillna(pd.Series(np.random.choice(['Android', 'iPhone'], \n",
    "                                                      p=[0.3, 0.7], size=len(df))))\n",
    "df.info()"
   ]
  },
  {
   "cell_type": "code",
   "execution_count": 8,
   "metadata": {},
   "outputs": [],
   "source": [
    "# Convert signup_date and last_trip_date into datetime types\n",
    "df['signup_date'] = pd.to_datetime(df['signup_date'])\n",
    "df['last_trip_date'] = pd.to_datetime(df['last_trip_date'])"
   ]
  },
  {
   "cell_type": "code",
   "execution_count": 9,
   "metadata": {},
   "outputs": [
    {
     "name": "stdout",
     "output_type": "stream",
     "text": [
      "<class 'pandas.core.frame.DataFrame'>\n",
      "RangeIndex: 50000 entries, 0 to 49999\n",
      "Data columns (total 12 columns):\n",
      "city                      50000 non-null object\n",
      "trips_in_first_30_days    50000 non-null int64\n",
      "signup_date               50000 non-null datetime64[ns]\n",
      "avg_rating_of_driver      50000 non-null float64\n",
      "avg_surge                 50000 non-null float64\n",
      "last_trip_date            50000 non-null datetime64[ns]\n",
      "phone                     50000 non-null object\n",
      "surge_pct                 50000 non-null float64\n",
      "ultimate_black_user       50000 non-null bool\n",
      "weekday_pct               50000 non-null float64\n",
      "avg_dist                  50000 non-null float64\n",
      "avg_rating_by_driver      50000 non-null float64\n",
      "dtypes: bool(1), datetime64[ns](2), float64(6), int64(1), object(2)\n",
      "memory usage: 4.2+ MB\n"
     ]
    }
   ],
   "source": [
    "df.info()"
   ]
  },
  {
   "cell_type": "code",
   "execution_count": 10,
   "metadata": {},
   "outputs": [
    {
     "data": {
      "text/html": [
       "<div>\n",
       "<style scoped>\n",
       "    .dataframe tbody tr th:only-of-type {\n",
       "        vertical-align: middle;\n",
       "    }\n",
       "\n",
       "    .dataframe tbody tr th {\n",
       "        vertical-align: top;\n",
       "    }\n",
       "\n",
       "    .dataframe thead th {\n",
       "        text-align: right;\n",
       "    }\n",
       "</style>\n",
       "<table border=\"1\" class=\"dataframe\">\n",
       "  <thead>\n",
       "    <tr style=\"text-align: right;\">\n",
       "      <th></th>\n",
       "      <th>city</th>\n",
       "      <th>trips_in_first_30_days</th>\n",
       "      <th>signup_date</th>\n",
       "      <th>avg_rating_of_driver</th>\n",
       "      <th>avg_surge</th>\n",
       "      <th>last_trip_date</th>\n",
       "      <th>phone</th>\n",
       "      <th>surge_pct</th>\n",
       "      <th>ultimate_black_user</th>\n",
       "      <th>weekday_pct</th>\n",
       "      <th>avg_dist</th>\n",
       "      <th>avg_rating_by_driver</th>\n",
       "    </tr>\n",
       "  </thead>\n",
       "  <tbody>\n",
       "    <tr>\n",
       "      <th>0</th>\n",
       "      <td>King's Landing</td>\n",
       "      <td>4</td>\n",
       "      <td>2014-01-25</td>\n",
       "      <td>4.7</td>\n",
       "      <td>1.10</td>\n",
       "      <td>2014-06-17</td>\n",
       "      <td>iPhone</td>\n",
       "      <td>15.4</td>\n",
       "      <td>True</td>\n",
       "      <td>46.2</td>\n",
       "      <td>3.67</td>\n",
       "      <td>5.0</td>\n",
       "    </tr>\n",
       "    <tr>\n",
       "      <th>1</th>\n",
       "      <td>Astapor</td>\n",
       "      <td>0</td>\n",
       "      <td>2014-01-29</td>\n",
       "      <td>5.0</td>\n",
       "      <td>1.00</td>\n",
       "      <td>2014-05-05</td>\n",
       "      <td>Android</td>\n",
       "      <td>0.0</td>\n",
       "      <td>False</td>\n",
       "      <td>50.0</td>\n",
       "      <td>8.26</td>\n",
       "      <td>5.0</td>\n",
       "    </tr>\n",
       "    <tr>\n",
       "      <th>2</th>\n",
       "      <td>Astapor</td>\n",
       "      <td>3</td>\n",
       "      <td>2014-01-06</td>\n",
       "      <td>4.3</td>\n",
       "      <td>1.00</td>\n",
       "      <td>2014-01-07</td>\n",
       "      <td>iPhone</td>\n",
       "      <td>0.0</td>\n",
       "      <td>False</td>\n",
       "      <td>100.0</td>\n",
       "      <td>0.77</td>\n",
       "      <td>5.0</td>\n",
       "    </tr>\n",
       "    <tr>\n",
       "      <th>3</th>\n",
       "      <td>King's Landing</td>\n",
       "      <td>9</td>\n",
       "      <td>2014-01-10</td>\n",
       "      <td>4.6</td>\n",
       "      <td>1.14</td>\n",
       "      <td>2014-06-29</td>\n",
       "      <td>iPhone</td>\n",
       "      <td>20.0</td>\n",
       "      <td>True</td>\n",
       "      <td>80.0</td>\n",
       "      <td>2.36</td>\n",
       "      <td>4.9</td>\n",
       "    </tr>\n",
       "    <tr>\n",
       "      <th>4</th>\n",
       "      <td>Winterfell</td>\n",
       "      <td>14</td>\n",
       "      <td>2014-01-27</td>\n",
       "      <td>4.4</td>\n",
       "      <td>1.19</td>\n",
       "      <td>2014-03-15</td>\n",
       "      <td>Android</td>\n",
       "      <td>11.8</td>\n",
       "      <td>False</td>\n",
       "      <td>82.4</td>\n",
       "      <td>3.13</td>\n",
       "      <td>4.9</td>\n",
       "    </tr>\n",
       "  </tbody>\n",
       "</table>\n",
       "</div>"
      ],
      "text/plain": [
       "             city  trips_in_first_30_days signup_date  avg_rating_of_driver  avg_surge last_trip_date    phone  surge_pct  ultimate_black_user  weekday_pct  avg_dist  avg_rating_by_driver\n",
       "0  King's Landing                       4  2014-01-25                   4.7       1.10     2014-06-17   iPhone       15.4                 True         46.2      3.67                   5.0\n",
       "1         Astapor                       0  2014-01-29                   5.0       1.00     2014-05-05  Android        0.0                False         50.0      8.26                   5.0\n",
       "2         Astapor                       3  2014-01-06                   4.3       1.00     2014-01-07   iPhone        0.0                False        100.0      0.77                   5.0\n",
       "3  King's Landing                       9  2014-01-10                   4.6       1.14     2014-06-29   iPhone       20.0                 True         80.0      2.36                   4.9\n",
       "4      Winterfell                      14  2014-01-27                   4.4       1.19     2014-03-15  Android       11.8                False         82.4      3.13                   4.9"
      ]
     },
     "execution_count": 10,
     "metadata": {},
     "output_type": "execute_result"
    }
   ],
   "source": [
    "df.head()"
   ]
  },
  {
   "cell_type": "code",
   "execution_count": 11,
   "metadata": {},
   "outputs": [
    {
     "data": {
      "text/plain": [
       "45357   2014-06-01\n",
       "Name: last_trip_date, dtype: datetime64[ns]"
      ]
     },
     "execution_count": 11,
     "metadata": {},
     "output_type": "execute_result"
    }
   ],
   "source": [
    "# Find the latest last_trip_date as the date the sample data was taken\n",
    "sample_date = df['last_trip_date'].sort_values(ascending=False).head(1)\n",
    "active_date = sample_date - datetime.timedelta(days=30)\n",
    "active_date"
   ]
  },
  {
   "cell_type": "code",
   "execution_count": 12,
   "metadata": {},
   "outputs": [],
   "source": [
    "# Extend dataset with retained - a feature that describes whether a user was active 30 days before the sample data was taken\n",
    "df['retained'] = df['last_trip_date'].apply(lambda x: 1 if x >= active_date.values[0] else 0)"
   ]
  },
  {
   "cell_type": "code",
   "execution_count": 13,
   "metadata": {},
   "outputs": [
    {
     "data": {
      "text/html": [
       "<div>\n",
       "<style scoped>\n",
       "    .dataframe tbody tr th:only-of-type {\n",
       "        vertical-align: middle;\n",
       "    }\n",
       "\n",
       "    .dataframe tbody tr th {\n",
       "        vertical-align: top;\n",
       "    }\n",
       "\n",
       "    .dataframe thead th {\n",
       "        text-align: right;\n",
       "    }\n",
       "</style>\n",
       "<table border=\"1\" class=\"dataframe\">\n",
       "  <thead>\n",
       "    <tr style=\"text-align: right;\">\n",
       "      <th></th>\n",
       "      <th>city</th>\n",
       "      <th>trips_in_first_30_days</th>\n",
       "      <th>signup_date</th>\n",
       "      <th>avg_rating_of_driver</th>\n",
       "      <th>avg_surge</th>\n",
       "      <th>last_trip_date</th>\n",
       "      <th>phone</th>\n",
       "      <th>surge_pct</th>\n",
       "      <th>ultimate_black_user</th>\n",
       "      <th>weekday_pct</th>\n",
       "      <th>avg_dist</th>\n",
       "      <th>avg_rating_by_driver</th>\n",
       "      <th>retained</th>\n",
       "    </tr>\n",
       "  </thead>\n",
       "  <tbody>\n",
       "    <tr>\n",
       "      <th>0</th>\n",
       "      <td>King's Landing</td>\n",
       "      <td>4</td>\n",
       "      <td>2014-01-25</td>\n",
       "      <td>4.7</td>\n",
       "      <td>1.10</td>\n",
       "      <td>2014-06-17</td>\n",
       "      <td>iPhone</td>\n",
       "      <td>15.4</td>\n",
       "      <td>True</td>\n",
       "      <td>46.2</td>\n",
       "      <td>3.67</td>\n",
       "      <td>5.0</td>\n",
       "      <td>1</td>\n",
       "    </tr>\n",
       "    <tr>\n",
       "      <th>1</th>\n",
       "      <td>Astapor</td>\n",
       "      <td>0</td>\n",
       "      <td>2014-01-29</td>\n",
       "      <td>5.0</td>\n",
       "      <td>1.00</td>\n",
       "      <td>2014-05-05</td>\n",
       "      <td>Android</td>\n",
       "      <td>0.0</td>\n",
       "      <td>False</td>\n",
       "      <td>50.0</td>\n",
       "      <td>8.26</td>\n",
       "      <td>5.0</td>\n",
       "      <td>0</td>\n",
       "    </tr>\n",
       "    <tr>\n",
       "      <th>2</th>\n",
       "      <td>Astapor</td>\n",
       "      <td>3</td>\n",
       "      <td>2014-01-06</td>\n",
       "      <td>4.3</td>\n",
       "      <td>1.00</td>\n",
       "      <td>2014-01-07</td>\n",
       "      <td>iPhone</td>\n",
       "      <td>0.0</td>\n",
       "      <td>False</td>\n",
       "      <td>100.0</td>\n",
       "      <td>0.77</td>\n",
       "      <td>5.0</td>\n",
       "      <td>0</td>\n",
       "    </tr>\n",
       "    <tr>\n",
       "      <th>3</th>\n",
       "      <td>King's Landing</td>\n",
       "      <td>9</td>\n",
       "      <td>2014-01-10</td>\n",
       "      <td>4.6</td>\n",
       "      <td>1.14</td>\n",
       "      <td>2014-06-29</td>\n",
       "      <td>iPhone</td>\n",
       "      <td>20.0</td>\n",
       "      <td>True</td>\n",
       "      <td>80.0</td>\n",
       "      <td>2.36</td>\n",
       "      <td>4.9</td>\n",
       "      <td>1</td>\n",
       "    </tr>\n",
       "    <tr>\n",
       "      <th>4</th>\n",
       "      <td>Winterfell</td>\n",
       "      <td>14</td>\n",
       "      <td>2014-01-27</td>\n",
       "      <td>4.4</td>\n",
       "      <td>1.19</td>\n",
       "      <td>2014-03-15</td>\n",
       "      <td>Android</td>\n",
       "      <td>11.8</td>\n",
       "      <td>False</td>\n",
       "      <td>82.4</td>\n",
       "      <td>3.13</td>\n",
       "      <td>4.9</td>\n",
       "      <td>0</td>\n",
       "    </tr>\n",
       "  </tbody>\n",
       "</table>\n",
       "</div>"
      ],
      "text/plain": [
       "             city  trips_in_first_30_days signup_date  avg_rating_of_driver  avg_surge last_trip_date    phone  surge_pct  ultimate_black_user  weekday_pct  avg_dist  avg_rating_by_driver  retained\n",
       "0  King's Landing                       4  2014-01-25                   4.7       1.10     2014-06-17   iPhone       15.4                 True         46.2      3.67                   5.0         1\n",
       "1         Astapor                       0  2014-01-29                   5.0       1.00     2014-05-05  Android        0.0                False         50.0      8.26                   5.0         0\n",
       "2         Astapor                       3  2014-01-06                   4.3       1.00     2014-01-07   iPhone        0.0                False        100.0      0.77                   5.0         0\n",
       "3  King's Landing                       9  2014-01-10                   4.6       1.14     2014-06-29   iPhone       20.0                 True         80.0      2.36                   4.9         1\n",
       "4      Winterfell                      14  2014-01-27                   4.4       1.19     2014-03-15  Android       11.8                False         82.4      3.13                   4.9         0"
      ]
     },
     "execution_count": 13,
     "metadata": {},
     "output_type": "execute_result"
    }
   ],
   "source": [
    "df.head()"
   ]
  },
  {
   "cell_type": "markdown",
   "metadata": {},
   "source": [
    "#### Q: Perform any cleaning, exploratory analysis, and/or visualizations to use the provided data for this analysis (a few sentences/plots describing your approach will suffice). What fraction of the observed users were retained?"
   ]
  },
  {
   "cell_type": "code",
   "execution_count": 14,
   "metadata": {},
   "outputs": [
    {
     "data": {
      "text/plain": [
       "0    0.62392\n",
       "1    0.37608\n",
       "Name: retained, dtype: float64"
      ]
     },
     "execution_count": 14,
     "metadata": {},
     "output_type": "execute_result"
    }
   ],
   "source": [
    "df['retained'].value_counts(normalize=True)"
   ]
  },
  {
   "cell_type": "markdown",
   "metadata": {},
   "source": [
    "A: 38% of the observed users were retained."
   ]
  },
  {
   "cell_type": "code",
   "execution_count": 15,
   "metadata": {},
   "outputs": [
    {
     "data": {
      "text/html": [
       "<div>\n",
       "<style scoped>\n",
       "    .dataframe tbody tr th:only-of-type {\n",
       "        vertical-align: middle;\n",
       "    }\n",
       "\n",
       "    .dataframe tbody tr th {\n",
       "        vertical-align: top;\n",
       "    }\n",
       "\n",
       "    .dataframe thead th {\n",
       "        text-align: right;\n",
       "    }\n",
       "</style>\n",
       "<table border=\"1\" class=\"dataframe\">\n",
       "  <thead>\n",
       "    <tr style=\"text-align: right;\">\n",
       "      <th></th>\n",
       "      <th>city</th>\n",
       "      <th>trips_in_first_30_days</th>\n",
       "      <th>avg_rating_of_driver</th>\n",
       "      <th>avg_surge</th>\n",
       "      <th>phone</th>\n",
       "      <th>surge_pct</th>\n",
       "      <th>ultimate_black_user</th>\n",
       "      <th>weekday_pct</th>\n",
       "      <th>avg_dist</th>\n",
       "      <th>avg_rating_by_driver</th>\n",
       "      <th>retained</th>\n",
       "    </tr>\n",
       "  </thead>\n",
       "  <tbody>\n",
       "    <tr>\n",
       "      <th>0</th>\n",
       "      <td>King's Landing</td>\n",
       "      <td>4</td>\n",
       "      <td>4.7</td>\n",
       "      <td>1.1</td>\n",
       "      <td>1</td>\n",
       "      <td>15.4</td>\n",
       "      <td>1</td>\n",
       "      <td>46.2</td>\n",
       "      <td>3.67</td>\n",
       "      <td>5.0</td>\n",
       "      <td>1</td>\n",
       "    </tr>\n",
       "  </tbody>\n",
       "</table>\n",
       "</div>"
      ],
      "text/plain": [
       "             city  trips_in_first_30_days  avg_rating_of_driver  avg_surge  phone  surge_pct  ultimate_black_user  weekday_pct  avg_dist  avg_rating_by_driver  retained\n",
       "0  King's Landing                       4                   4.7        1.1      1       15.4                    1         46.2      3.67                   5.0         1"
      ]
     },
     "execution_count": 15,
     "metadata": {},
     "output_type": "execute_result"
    }
   ],
   "source": [
    "# Convert ultimate_black_user and phone values to 1 and 0 values, and drop unnecessary columns\n",
    "df['ultimate_black_user'] = df['ultimate_black_user'].apply(lambda x: 1 if x else 0)\n",
    "df['phone'] = df['phone'].apply(lambda x: 1 if x == 'iPhone' else 0)\n",
    "df.drop(['signup_date','last_trip_date'],axis=1,inplace=True)\n",
    "df.head(1)"
   ]
  },
  {
   "cell_type": "markdown",
   "metadata": {},
   "source": [
    "Of those who are not ultimate black users, significantly more are not retained. Of those who are ultimate black users, about equal numbers of users are retained vs. not retained."
   ]
  },
  {
   "cell_type": "code",
   "execution_count": 19,
   "metadata": {},
   "outputs": [
    {
     "data": {
      "image/png": "[encoded data removed]",
      "text/plain": [
       "<Figure size 432x288 with 1 Axes>"
      ]
     },
     "metadata": {
      "needs_background": "light"
     },
     "output_type": "display_data"
    }
   ],
   "source": [
    "sns.countplot(x='ultimate_black_user', data=df, hue='retained');"
   ]
  },
  {
   "cell_type": "markdown",
   "metadata": {},
   "source": [
    "Of those who live in King's Landing, more are retained. Of those who live in Astapor and Winterfell, significantly more are not retained vs. retained."
   ]
  },
  {
   "cell_type": "code",
   "execution_count": 20,
   "metadata": {},
   "outputs": [
    {
     "data": {
      "image/png": "[encoded data removed]",
      "text/plain": [
       "<Figure size 432x288 with 1 Axes>"
      ]
     },
     "metadata": {
      "needs_background": "light"
     },
     "output_type": "display_data"
    }
   ],
   "source": [
    "sns.countplot(x='city', data=df, hue='retained');"
   ]
  },
  {
   "cell_type": "markdown",
   "metadata": {},
   "source": [
    "Of those who have Android phones, significantly more are not retained. Of those who have iPhones, the number who are retained vs. not retained are comparable."
   ]
  },
  {
   "cell_type": "code",
   "execution_count": 21,
   "metadata": {},
   "outputs": [
    {
     "data": {
      "image/png": "[encoded data removed]",
      "text/plain": [
       "<Figure size 432x288 with 1 Axes>"
      ]
     },
     "metadata": {
      "needs_background": "light"
     },
     "output_type": "display_data"
    }
   ],
   "source": [
    "sns.countplot(x='phone', data=df, hue='retained');"
   ]
  },
  {
   "cell_type": "code",
   "execution_count": 27,
   "metadata": {},
   "outputs": [
    {
     "data": {
      "text/html": [
       "<div>\n",
       "<style scoped>\n",
       "    .dataframe tbody tr th:only-of-type {\n",
       "        vertical-align: middle;\n",
       "    }\n",
       "\n",
       "    .dataframe tbody tr th {\n",
       "        vertical-align: top;\n",
       "    }\n",
       "\n",
       "    .dataframe thead th {\n",
       "        text-align: right;\n",
       "    }\n",
       "</style>\n",
       "<table border=\"1\" class=\"dataframe\">\n",
       "  <thead>\n",
       "    <tr style=\"text-align: right;\">\n",
       "      <th></th>\n",
       "      <th>trips_in_first_30_days</th>\n",
       "      <th>avg_rating_of_driver</th>\n",
       "      <th>avg_surge</th>\n",
       "      <th>phone</th>\n",
       "      <th>surge_pct</th>\n",
       "      <th>ultimate_black_user</th>\n",
       "      <th>weekday_pct</th>\n",
       "      <th>avg_dist</th>\n",
       "      <th>avg_rating_by_driver</th>\n",
       "      <th>retained</th>\n",
       "    </tr>\n",
       "  </thead>\n",
       "  <tbody>\n",
       "    <tr>\n",
       "      <th>count</th>\n",
       "      <td>50000.000000</td>\n",
       "      <td>50000.000000</td>\n",
       "      <td>50000.000000</td>\n",
       "      <td>50000.000000</td>\n",
       "      <td>50000.000000</td>\n",
       "      <td>50000.00000</td>\n",
       "      <td>50000.000000</td>\n",
       "      <td>50000.000000</td>\n",
       "      <td>50000.000000</td>\n",
       "      <td>50000.000000</td>\n",
       "    </tr>\n",
       "    <tr>\n",
       "      <th>mean</th>\n",
       "      <td>2.278200</td>\n",
       "      <td>4.601559</td>\n",
       "      <td>1.074764</td>\n",
       "      <td>0.697260</td>\n",
       "      <td>8.849536</td>\n",
       "      <td>0.37708</td>\n",
       "      <td>60.926084</td>\n",
       "      <td>5.796827</td>\n",
       "      <td>4.778158</td>\n",
       "      <td>0.376080</td>\n",
       "    </tr>\n",
       "    <tr>\n",
       "      <th>std</th>\n",
       "      <td>3.792684</td>\n",
       "      <td>0.564977</td>\n",
       "      <td>0.222336</td>\n",
       "      <td>0.459448</td>\n",
       "      <td>19.958811</td>\n",
       "      <td>0.48466</td>\n",
       "      <td>37.081503</td>\n",
       "      <td>5.707357</td>\n",
       "      <td>0.445753</td>\n",
       "      <td>0.484405</td>\n",
       "    </tr>\n",
       "    <tr>\n",
       "      <th>min</th>\n",
       "      <td>0.000000</td>\n",
       "      <td>1.000000</td>\n",
       "      <td>1.000000</td>\n",
       "      <td>0.000000</td>\n",
       "      <td>0.000000</td>\n",
       "      <td>0.00000</td>\n",
       "      <td>0.000000</td>\n",
       "      <td>0.000000</td>\n",
       "      <td>1.000000</td>\n",
       "      <td>0.000000</td>\n",
       "    </tr>\n",
       "    <tr>\n",
       "      <th>25%</th>\n",
       "      <td>0.000000</td>\n",
       "      <td>4.500000</td>\n",
       "      <td>1.000000</td>\n",
       "      <td>0.000000</td>\n",
       "      <td>0.000000</td>\n",
       "      <td>0.00000</td>\n",
       "      <td>33.300000</td>\n",
       "      <td>2.420000</td>\n",
       "      <td>4.700000</td>\n",
       "      <td>0.000000</td>\n",
       "    </tr>\n",
       "    <tr>\n",
       "      <th>50%</th>\n",
       "      <td>1.000000</td>\n",
       "      <td>4.700000</td>\n",
       "      <td>1.000000</td>\n",
       "      <td>1.000000</td>\n",
       "      <td>0.000000</td>\n",
       "      <td>0.00000</td>\n",
       "      <td>66.700000</td>\n",
       "      <td>3.880000</td>\n",
       "      <td>5.000000</td>\n",
       "      <td>0.000000</td>\n",
       "    </tr>\n",
       "    <tr>\n",
       "      <th>75%</th>\n",
       "      <td>3.000000</td>\n",
       "      <td>5.000000</td>\n",
       "      <td>1.050000</td>\n",
       "      <td>1.000000</td>\n",
       "      <td>8.600000</td>\n",
       "      <td>1.00000</td>\n",
       "      <td>100.000000</td>\n",
       "      <td>6.940000</td>\n",
       "      <td>5.000000</td>\n",
       "      <td>1.000000</td>\n",
       "    </tr>\n",
       "    <tr>\n",
       "      <th>max</th>\n",
       "      <td>125.000000</td>\n",
       "      <td>5.000000</td>\n",
       "      <td>8.000000</td>\n",
       "      <td>1.000000</td>\n",
       "      <td>100.000000</td>\n",
       "      <td>1.00000</td>\n",
       "      <td>100.000000</td>\n",
       "      <td>160.960000</td>\n",
       "      <td>5.000000</td>\n",
       "      <td>1.000000</td>\n",
       "    </tr>\n",
       "  </tbody>\n",
       "</table>\n",
       "</div>"
      ],
      "text/plain": [
       "       trips_in_first_30_days  avg_rating_of_driver     avg_surge         phone     surge_pct  ultimate_black_user   weekday_pct      avg_dist  avg_rating_by_driver      retained\n",
       "count            50000.000000          50000.000000  50000.000000  50000.000000  50000.000000          50000.00000  50000.000000  50000.000000          50000.000000  50000.000000\n",
       "mean                 2.278200              4.601559      1.074764      0.697260      8.849536              0.37708     60.926084      5.796827              4.778158      0.376080\n",
       "std                  3.792684              0.564977      0.222336      0.459448     19.958811              0.48466     37.081503      5.707357              0.445753      0.484405\n",
       "min                  0.000000              1.000000      1.000000      0.000000      0.000000              0.00000      0.000000      0.000000              1.000000      0.000000\n",
       "25%                  0.000000              4.500000      1.000000      0.000000      0.000000              0.00000     33.300000      2.420000              4.700000      0.000000\n",
       "50%                  1.000000              4.700000      1.000000      1.000000      0.000000              0.00000     66.700000      3.880000              5.000000      0.000000\n",
       "75%                  3.000000              5.000000      1.050000      1.000000      8.600000              1.00000    100.000000      6.940000              5.000000      1.000000\n",
       "max                125.000000              5.000000      8.000000      1.000000    100.000000              1.00000    100.000000    160.960000              5.000000      1.000000"
      ]
     },
     "execution_count": 27,
     "metadata": {},
     "output_type": "execute_result"
    }
   ],
   "source": [
    "df.describe()"
   ]
  },
  {
   "cell_type": "markdown",
   "metadata": {},
   "source": [
    "Someone took 125 trips in the first 30 days! That's more than 4 trips a day. Most observed users took less than 7 trips in the first 30 days. The distribution of all the continuous features is non-normal and highly skewed, which means that PCA could be performed to scale the continuous features into normal distribution and reduced into principal components"
   ]
  },
  {
   "cell_type": "code",
   "execution_count": 29,
   "metadata": {},
   "outputs": [
    {
     "data": {
      "image/png": "[encoded data removed]",
      "text/plain": [
       "<Figure size 432x288 with 1 Axes>"
      ]
     },
     "metadata": {
      "needs_background": "light"
     },
     "output_type": "display_data"
    }
   ],
   "source": [
    "df['trips_in_first_30_days'].hist()\n",
    "plt.show();"
   ]
  },
  {
   "cell_type": "code",
   "execution_count": 37,
   "metadata": {},
   "outputs": [
    {
     "data": {
      "image/png": "[encoded data removed]",
      "text/plain": [
       "<Figure size 432x288 with 1 Axes>"
      ]
     },
     "metadata": {
      "needs_background": "light"
     },
     "output_type": "display_data"
    }
   ],
   "source": [
    "df['avg_rating_of_driver'].hist(alpha=0.5,label='avg_rating_of_driver')\n",
    "df['avg_rating_by_driver'].hist(alpha=0.5,label='avg_rating_by_driver')\n",
    "plt.show();"
   ]
  },
  {
   "cell_type": "code",
   "execution_count": 38,
   "metadata": {},
   "outputs": [
    {
     "data": {
      "image/png": "[encoded data removed]",
      "text/plain": [
       "<Figure size 432x288 with 1 Axes>"
      ]
     },
     "metadata": {
      "needs_background": "light"
     },
     "output_type": "display_data"
    }
   ],
   "source": [
    "df['surge_pct'].hist(alpha=0.5,label='surge_pct')\n",
    "df['avg_surge'].hist(alpha=0.5,label='avg_surge')\n",
    "plt.show();"
   ]
  },
  {
   "cell_type": "code",
   "execution_count": 39,
   "metadata": {},
   "outputs": [
    {
     "data": {
      "image/png": "[encoded data removed]",
      "text/plain": [
       "<Figure size 432x288 with 1 Axes>"
      ]
     },
     "metadata": {
      "needs_background": "light"
     },
     "output_type": "display_data"
    }
   ],
   "source": [
    "df['weekday_pct'].hist(alpha=0.5,label='weekday_pct')\n",
    "df['avg_dist'].hist(alpha=0.5,label='avg_dist')\n",
    "plt.show();"
   ]
  },
  {
   "cell_type": "markdown",
   "metadata": {},
   "source": [
    "## Feature Selection & Principal Component Analysis"
   ]
  },
  {
   "cell_type": "code",
   "execution_count": 32,
   "metadata": {},
   "outputs": [],
   "source": [
    "# Map values in city to numeric values\n",
    "df['city'] = df['city'].apply(lambda x: 1 if x == \"King's Landing\" else 2 if x == 'Astapor' else 3)"
   ]
  },
  {
   "cell_type": "code",
   "execution_count": 33,
   "metadata": {},
   "outputs": [
    {
     "data": {
      "image/png": "[encoded data removed]",
      "text/plain": [
       "<Figure size 432x288 with 2 Axes>"
      ]
     },
     "metadata": {
      "needs_background": "light"
     },
     "output_type": "display_data"
    }
   ],
   "source": [
    "# Correlations between features\n",
    "sns.heatmap(df.corr());"
   ]
  },
  {
   "cell_type": "markdown",
   "metadata": {},
   "source": [
    "The only features with higher correlation are surge_pct and avg_surge. This makes sense since the more trips a user has taken with surge multiplier greater than 1, the higher the average surge multiplier is over the user's trips. The correlation between these two features is 0.79. We can reduce the two correlated features down to 1 feature. The features which are not high correlated can be included as is for modeling after scaling to normal distribution."
   ]
  },
  {
   "cell_type": "code",
   "execution_count": 34,
   "metadata": {},
   "outputs": [
    {
     "data": {
      "text/html": [
       "<div>\n",
       "<style scoped>\n",
       "    .dataframe tbody tr th:only-of-type {\n",
       "        vertical-align: middle;\n",
       "    }\n",
       "\n",
       "    .dataframe tbody tr th {\n",
       "        vertical-align: top;\n",
       "    }\n",
       "\n",
       "    .dataframe thead th {\n",
       "        text-align: right;\n",
       "    }\n",
       "</style>\n",
       "<table border=\"1\" class=\"dataframe\">\n",
       "  <thead>\n",
       "    <tr style=\"text-align: right;\">\n",
       "      <th></th>\n",
       "      <th>city</th>\n",
       "      <th>trips_in_first_30_days</th>\n",
       "      <th>avg_rating_of_driver</th>\n",
       "      <th>avg_surge</th>\n",
       "      <th>phone</th>\n",
       "      <th>surge_pct</th>\n",
       "      <th>ultimate_black_user</th>\n",
       "      <th>weekday_pct</th>\n",
       "      <th>avg_dist</th>\n",
       "      <th>avg_rating_by_driver</th>\n",
       "      <th>retained</th>\n",
       "    </tr>\n",
       "  </thead>\n",
       "  <tbody>\n",
       "    <tr>\n",
       "      <th>city</th>\n",
       "      <td>1.000000</td>\n",
       "      <td>0.012708</td>\n",
       "      <td>-0.103387</td>\n",
       "      <td>-0.013030</td>\n",
       "      <td>-0.046530</td>\n",
       "      <td>-0.056910</td>\n",
       "      <td>-0.054039</td>\n",
       "      <td>-0.026133</td>\n",
       "      <td>0.011098</td>\n",
       "      <td>-0.107464</td>\n",
       "      <td>-0.166145</td>\n",
       "    </tr>\n",
       "    <tr>\n",
       "      <th>trips_in_first_30_days</th>\n",
       "      <td>0.012708</td>\n",
       "      <td>1.000000</td>\n",
       "      <td>-0.011639</td>\n",
       "      <td>-0.001993</td>\n",
       "      <td>0.059402</td>\n",
       "      <td>0.005599</td>\n",
       "      <td>0.112565</td>\n",
       "      <td>0.050728</td>\n",
       "      <td>-0.137347</td>\n",
       "      <td>-0.039545</td>\n",
       "      <td>0.211863</td>\n",
       "    </tr>\n",
       "    <tr>\n",
       "      <th>avg_rating_of_driver</th>\n",
       "      <td>-0.103387</td>\n",
       "      <td>-0.011639</td>\n",
       "      <td>1.000000</td>\n",
       "      <td>-0.021656</td>\n",
       "      <td>-0.024430</td>\n",
       "      <td>-0.003294</td>\n",
       "      <td>-0.001934</td>\n",
       "      <td>0.012582</td>\n",
       "      <td>0.028517</td>\n",
       "      <td>0.101660</td>\n",
       "      <td>-0.010847</td>\n",
       "    </tr>\n",
       "    <tr>\n",
       "      <th>avg_surge</th>\n",
       "      <td>-0.013030</td>\n",
       "      <td>-0.001993</td>\n",
       "      <td>-0.021656</td>\n",
       "      <td>1.000000</td>\n",
       "      <td>0.009397</td>\n",
       "      <td>0.793582</td>\n",
       "      <td>-0.078797</td>\n",
       "      <td>-0.110072</td>\n",
       "      <td>-0.081489</td>\n",
       "      <td>0.010498</td>\n",
       "      <td>-0.003338</td>\n",
       "    </tr>\n",
       "    <tr>\n",
       "      <th>phone</th>\n",
       "      <td>-0.046530</td>\n",
       "      <td>0.059402</td>\n",
       "      <td>-0.024430</td>\n",
       "      <td>0.009397</td>\n",
       "      <td>1.000000</td>\n",
       "      <td>0.010824</td>\n",
       "      <td>0.073174</td>\n",
       "      <td>0.008481</td>\n",
       "      <td>-0.022356</td>\n",
       "      <td>-0.009451</td>\n",
       "      <td>0.225076</td>\n",
       "    </tr>\n",
       "    <tr>\n",
       "      <th>surge_pct</th>\n",
       "      <td>-0.056910</td>\n",
       "      <td>0.005599</td>\n",
       "      <td>-0.003294</td>\n",
       "      <td>0.793582</td>\n",
       "      <td>0.010824</td>\n",
       "      <td>1.000000</td>\n",
       "      <td>-0.106870</td>\n",
       "      <td>-0.144920</td>\n",
       "      <td>-0.104411</td>\n",
       "      <td>0.019964</td>\n",
       "      <td>0.011790</td>\n",
       "    </tr>\n",
       "    <tr>\n",
       "      <th>ultimate_black_user</th>\n",
       "      <td>-0.054039</td>\n",
       "      <td>0.112565</td>\n",
       "      <td>-0.001934</td>\n",
       "      <td>-0.078797</td>\n",
       "      <td>0.073174</td>\n",
       "      <td>-0.106870</td>\n",
       "      <td>1.000000</td>\n",
       "      <td>0.035991</td>\n",
       "      <td>0.032328</td>\n",
       "      <td>0.009327</td>\n",
       "      <td>0.204976</td>\n",
       "    </tr>\n",
       "    <tr>\n",
       "      <th>weekday_pct</th>\n",
       "      <td>-0.026133</td>\n",
       "      <td>0.050728</td>\n",
       "      <td>0.012582</td>\n",
       "      <td>-0.110072</td>\n",
       "      <td>0.008481</td>\n",
       "      <td>-0.144920</td>\n",
       "      <td>0.035991</td>\n",
       "      <td>1.000000</td>\n",
       "      <td>0.101657</td>\n",
       "      <td>0.020366</td>\n",
       "      <td>0.009685</td>\n",
       "    </tr>\n",
       "    <tr>\n",
       "      <th>avg_dist</th>\n",
       "      <td>0.011098</td>\n",
       "      <td>-0.137347</td>\n",
       "      <td>0.028517</td>\n",
       "      <td>-0.081489</td>\n",
       "      <td>-0.022356</td>\n",
       "      <td>-0.104411</td>\n",
       "      <td>0.032328</td>\n",
       "      <td>0.101657</td>\n",
       "      <td>1.000000</td>\n",
       "      <td>0.079794</td>\n",
       "      <td>-0.092765</td>\n",
       "    </tr>\n",
       "    <tr>\n",
       "      <th>avg_rating_by_driver</th>\n",
       "      <td>-0.107464</td>\n",
       "      <td>-0.039545</td>\n",
       "      <td>0.101660</td>\n",
       "      <td>0.010498</td>\n",
       "      <td>-0.009451</td>\n",
       "      <td>0.019964</td>\n",
       "      <td>0.009327</td>\n",
       "      <td>0.020366</td>\n",
       "      <td>0.079794</td>\n",
       "      <td>1.000000</td>\n",
       "      <td>-0.026750</td>\n",
       "    </tr>\n",
       "    <tr>\n",
       "      <th>retained</th>\n",
       "      <td>-0.166145</td>\n",
       "      <td>0.211863</td>\n",
       "      <td>-0.010847</td>\n",
       "      <td>-0.003338</td>\n",
       "      <td>0.225076</td>\n",
       "      <td>0.011790</td>\n",
       "      <td>0.204976</td>\n",
       "      <td>0.009685</td>\n",
       "      <td>-0.092765</td>\n",
       "      <td>-0.026750</td>\n",
       "      <td>1.000000</td>\n",
       "    </tr>\n",
       "  </tbody>\n",
       "</table>\n",
       "</div>"
      ],
      "text/plain": [
       "                            city  trips_in_first_30_days  avg_rating_of_driver  avg_surge     phone  surge_pct  ultimate_black_user  weekday_pct  avg_dist  avg_rating_by_driver  retained\n",
       "city                    1.000000                0.012708             -0.103387  -0.013030 -0.046530  -0.056910            -0.054039    -0.026133  0.011098             -0.107464 -0.166145\n",
       "trips_in_first_30_days  0.012708                1.000000             -0.011639  -0.001993  0.059402   0.005599             0.112565     0.050728 -0.137347             -0.039545  0.211863\n",
       "avg_rating_of_driver   -0.103387               -0.011639              1.000000  -0.021656 -0.024430  -0.003294            -0.001934     0.012582  0.028517              0.101660 -0.010847\n",
       "avg_surge              -0.013030               -0.001993             -0.021656   1.000000  0.009397   0.793582            -0.078797    -0.110072 -0.081489              0.010498 -0.003338\n",
       "phone                  -0.046530                0.059402             -0.024430   0.009397  1.000000   0.010824             0.073174     0.008481 -0.022356             -0.009451  0.225076\n",
       "surge_pct              -0.056910                0.005599             -0.003294   0.793582  0.010824   1.000000            -0.106870    -0.144920 -0.104411              0.019964  0.011790\n",
       "ultimate_black_user    -0.054039                0.112565             -0.001934  -0.078797  0.073174  -0.106870             1.000000     0.035991  0.032328              0.009327  0.204976\n",
       "weekday_pct            -0.026133                0.050728              0.012582  -0.110072  0.008481  -0.144920             0.035991     1.000000  0.101657              0.020366  0.009685\n",
       "avg_dist                0.011098               -0.137347              0.028517  -0.081489 -0.022356  -0.104411             0.032328     0.101657  1.000000              0.079794 -0.092765\n",
       "avg_rating_by_driver   -0.107464               -0.039545              0.101660   0.010498 -0.009451   0.019964             0.009327     0.020366  0.079794              1.000000 -0.026750\n",
       "retained               -0.166145                0.211863             -0.010847  -0.003338  0.225076   0.011790             0.204976     0.009685 -0.092765             -0.026750  1.000000"
      ]
     },
     "execution_count": 34,
     "metadata": {},
     "output_type": "execute_result"
    }
   ],
   "source": [
    "# Evaluate the correlation matrix to check for high correlations\n",
    "df.corr()"
   ]
  },
  {
   "cell_type": "code",
   "execution_count": 42,
   "metadata": {},
   "outputs": [
    {
     "name": "stdout",
     "output_type": "stream",
     "text": [
      "Explained variation per principal component: [0.89679107]\n"
     ]
    }
   ],
   "source": [
    "from sklearn.decomposition import PCA\n",
    "from sklearn.preprocessing import scale, StandardScaler\n",
    "\n",
    "# Extract the correlated features from dataframe and scale them to normal distribution\n",
    "surge_scaled = scale(df[['surge_pct','avg_surge']].values)\n",
    "\n",
    "# Instantiate and perform principal component analysis to reduce the dimension from 7 to 5\n",
    "pca = PCA(n_components=1)\n",
    "pc = pca.fit_transform(surge_scaled)\n",
    "\n",
    "print('Explained variation per principal component: {}'.format(pca.explained_variance_ratio_))"
   ]
  },
  {
   "cell_type": "code",
   "execution_count": 44,
   "metadata": {},
   "outputs": [],
   "source": [
    "# Create dataframe with the principal component, scaled continuous features, and the categorical features\n",
    "ml = pd.DataFrame(data={'pc':[item for sublist in pc for item in sublist],\n",
    "                        'city':df['city'],\n",
    "                        'trips_in_first_30_days':scale(df['trips_in_first_30_days'].values),\n",
    "                        'avg_rating_of_driver':scale(df['avg_rating_of_driver'].values),\n",
    "                        'weekday_pct':scale(df['weekday_pct'].values),\n",
    "                        'avg_dist':scale(df['avg_dist'].values),\n",
    "                        'ultimate_black_user':df['ultimate_black_user'],\n",
    "                        'phone':df['phone']\n",
    "                       })"
   ]
  },
  {
   "cell_type": "code",
   "execution_count": 45,
   "metadata": {},
   "outputs": [
    {
     "data": {
      "text/html": [
       "<div>\n",
       "<style scoped>\n",
       "    .dataframe tbody tr th:only-of-type {\n",
       "        vertical-align: middle;\n",
       "    }\n",
       "\n",
       "    .dataframe tbody tr th {\n",
       "        vertical-align: top;\n",
       "    }\n",
       "\n",
       "    .dataframe thead th {\n",
       "        text-align: right;\n",
       "    }\n",
       "</style>\n",
       "<table border=\"1\" class=\"dataframe\">\n",
       "  <thead>\n",
       "    <tr style=\"text-align: right;\">\n",
       "      <th></th>\n",
       "      <th>pc</th>\n",
       "      <th>city</th>\n",
       "      <th>trips_in_first_30_days</th>\n",
       "      <th>avg_rating_of_driver</th>\n",
       "      <th>weekday_pct</th>\n",
       "      <th>avg_dist</th>\n",
       "      <th>ultimate_black_user</th>\n",
       "      <th>phone</th>\n",
       "    </tr>\n",
       "  </thead>\n",
       "  <tbody>\n",
       "    <tr>\n",
       "      <th>0</th>\n",
       "      <td>0.312339</td>\n",
       "      <td>1</td>\n",
       "      <td>0.459463</td>\n",
       "      <td>0.174254</td>\n",
       "      <td>-0.397122</td>\n",
       "      <td>-0.372661</td>\n",
       "      <td>1</td>\n",
       "      <td>1</td>\n",
       "    </tr>\n",
       "    <tr>\n",
       "      <th>1</th>\n",
       "      <td>-0.551293</td>\n",
       "      <td>2</td>\n",
       "      <td>-0.606419</td>\n",
       "      <td>0.705252</td>\n",
       "      <td>-0.294645</td>\n",
       "      <td>0.431567</td>\n",
       "      <td>0</td>\n",
       "      <td>0</td>\n",
       "    </tr>\n",
       "    <tr>\n",
       "      <th>2</th>\n",
       "      <td>-0.551293</td>\n",
       "      <td>2</td>\n",
       "      <td>0.192992</td>\n",
       "      <td>-0.533744</td>\n",
       "      <td>1.053738</td>\n",
       "      <td>-0.880780</td>\n",
       "      <td>0</td>\n",
       "      <td>1</td>\n",
       "    </tr>\n",
       "    <tr>\n",
       "      <th>3</th>\n",
       "      <td>0.602523</td>\n",
       "      <td>1</td>\n",
       "      <td>1.791814</td>\n",
       "      <td>-0.002746</td>\n",
       "      <td>0.514385</td>\n",
       "      <td>-0.602191</td>\n",
       "      <td>1</td>\n",
       "      <td>1</td>\n",
       "    </tr>\n",
       "    <tr>\n",
       "      <th>4</th>\n",
       "      <td>0.471029</td>\n",
       "      <td>3</td>\n",
       "      <td>3.124166</td>\n",
       "      <td>-0.356745</td>\n",
       "      <td>0.579107</td>\n",
       "      <td>-0.467277</td>\n",
       "      <td>0</td>\n",
       "      <td>0</td>\n",
       "    </tr>\n",
       "  </tbody>\n",
       "</table>\n",
       "</div>"
      ],
      "text/plain": [
       "         pc  city  trips_in_first_30_days  avg_rating_of_driver  weekday_pct  avg_dist  ultimate_black_user  phone\n",
       "0  0.312339     1                0.459463              0.174254    -0.397122 -0.372661                    1      1\n",
       "1 -0.551293     2               -0.606419              0.705252    -0.294645  0.431567                    0      0\n",
       "2 -0.551293     2                0.192992             -0.533744     1.053738 -0.880780                    0      1\n",
       "3  0.602523     1                1.791814             -0.002746     0.514385 -0.602191                    1      1\n",
       "4  0.471029     3                3.124166             -0.356745     0.579107 -0.467277                    0      0"
      ]
     },
     "execution_count": 45,
     "metadata": {},
     "output_type": "execute_result"
    }
   ],
   "source": [
    "# Dataframe for machine learning\n",
    "ml.head()"
   ]
  },
  {
   "cell_type": "markdown",
   "metadata": {},
   "source": [
    "## Sampling Strategy\n",
    "Before performing over sampling, 38% of users were retained, 18803 samples are in class 1 and 31196 samples are in class 0. "
   ]
  },
  {
   "cell_type": "code",
   "execution_count": 46,
   "metadata": {},
   "outputs": [
    {
     "data": {
      "text/plain": [
       "0    31196\n",
       "1    18803\n",
       "Name: retained, dtype: int64"
      ]
     },
     "execution_count": 46,
     "metadata": {},
     "output_type": "execute_result"
    }
   ],
   "source": [
    "df['retained'].value_counts()"
   ]
  },
  {
   "cell_type": "markdown",
   "metadata": {},
   "source": [
    "After performing the sampling strategy, 24956 samples are in class 1 and 31196 samples are in class 0."
   ]
  },
  {
   "cell_type": "code",
   "execution_count": 49,
   "metadata": {},
   "outputs": [
    {
     "name": "stdout",
     "output_type": "stream",
     "text": [
      "Information of the data set after making it balanced using a float and an over-sampling method: \n",
      " sampling_strategy=0.8 \n",
      " y: Counter({0: 31196, 1: 24956})\n"
     ]
    }
   ],
   "source": [
    "from imblearn.under_sampling import RandomUnderSampler\n",
    "from imblearn.over_sampling import RandomOverSampler\n",
    "from collections import Counter\n",
    "\n",
    "sampling_strategy = 0.8\n",
    "\n",
    "ros = RandomOverSampler(sampling_strategy=sampling_strategy)\n",
    "X = ml[['pc', 'city','trips_in_first_30_days','avg_rating_of_driver','weekday_pct','avg_dist','ultimate_black_user','phone']].values\n",
    "y = df['retained'].values\n",
    "X_res, y_res = ros.fit_resample(X, y)\n",
    "print('Information of the data set after making it '\n",
    "      'balanced using a float and an over-sampling method: \\n '\n",
    "      'sampling_strategy={} \\n y: {}'\n",
    "      .format(sampling_strategy, Counter(y_res)))"
   ]
  },
  {
   "cell_type": "markdown",
   "metadata": {},
   "source": [
    "#### Q: Build a predictive model to help Ultimate determine whether or not a user will be active in their 6th month on the system. Discuss why you chose your approach, what alternatives you considered, and any concerns you have. How valid is your model? Include any key indicators of model performance."
   ]
  },
  {
   "cell_type": "markdown",
   "metadata": {},
   "source": [
    "## Benchmarking"
   ]
  },
  {
   "cell_type": "code",
   "execution_count": 51,
   "metadata": {},
   "outputs": [
    {
     "data": {
      "text/plain": [
       "0.5555621512525228"
      ]
     },
     "execution_count": 51,
     "metadata": {},
     "output_type": "execute_result"
    }
   ],
   "source": [
    "from sklearn.dummy import DummyClassifier\n",
    "from sklearn.model_selection import train_test_split, cross_val_score, GridSearchCV, RandomizedSearchCV\n",
    "from sklearn.metrics import accuracy_score, roc_auc_score\n",
    "SEED = 123\n",
    "\n",
    "# Split the data into training and test sets\n",
    "X_train, X_test, y_train, y_test = train_test_split(X_res, y_res, test_size=0.3, stratify=y_res, random_state=SEED)\n",
    "\n",
    "# Baseline model using dummy classifier\n",
    "baseline = DummyClassifier(strategy='prior')\n",
    "\n",
    "# Fit to training data\n",
    "baseline.fit(X_train, y_train)\n",
    "\n",
    "# Predict on test set\n",
    "y_pred_base = baseline.predict(X_test)\n",
    "\n",
    "# Evaluate baseline scores\n",
    "accuracy_score(y_train, baseline.predict(X_train))\n",
    "accuracy_score(y_test, y_pred_base)"
   ]
  },
  {
   "cell_type": "markdown",
   "metadata": {},
   "source": [
    "## Decision Tree"
   ]
  },
  {
   "cell_type": "code",
   "execution_count": 53,
   "metadata": {},
   "outputs": [
    {
     "name": "stdout",
     "output_type": "stream",
     "text": [
      "Tuned Decision Tree Parameters: {'criterion': 'gini', 'max_depth': 9, 'max_features': 2, 'min_samples_leaf': 2}\n",
      "Best score is 0.8120118984019674\n"
     ]
    }
   ],
   "source": [
    "from sklearn.linear_model import LogisticRegression\n",
    "from sklearn.neighbors import KNeighborsClassifier as KNN\n",
    "from sklearn.ensemble import VotingClassifier, BaggingClassifier, RandomForestClassifier, AdaBoostClassifier, GradientBoostingClassifier\n",
    "from sklearn.tree import DecisionTreeClassifier\n",
    "from sklearn.metrics import mean_squared_error as MSE\n",
    "from sklearn.metrics import make_scorer\n",
    "from sklearn.tree import export_graphviz\n",
    "from sklearn.externals.six import StringIO \n",
    "\n",
    "# Tune hyperparameters in decision tree classifier using GridSearchCV\n",
    "# Setup the parameters and distributions to sample from: param_grid\n",
    "scoring = {'AUC': 'roc_auc', 'Accuracy': make_scorer(accuracy_score)}\n",
    "param_grid = {\"max_depth\": [3, 5, 7, 9],\n",
    "              \"max_features\": [1,2],\n",
    "              \"min_samples_leaf\": [0.1,1,2],\n",
    "              \"criterion\": [\"gini\", \"entropy\"]}\n",
    "\n",
    "# Instantiate the GridSearchCV object\n",
    "grid_cv = GridSearchCV(DecisionTreeClassifier(), param_grid, scoring=scoring, cv=5, refit='AUC', return_train_score=True)\n",
    "\n",
    "# Fit to training data\n",
    "grid_cv.fit(X_train, y_train)\n",
    "\n",
    "# Print the tuned parameters and score\n",
    "print(\"Tuned Decision Tree Parameters: {}\".format(grid_cv.best_params_))\n",
    "print(\"Best score is {}\".format(grid_cv.best_score_))"
   ]
  },
  {
   "cell_type": "code",
   "execution_count": 54,
   "metadata": {},
   "outputs": [
    {
     "data": {
      "text/plain": [
       "0.7466460880921287"
      ]
     },
     "execution_count": 54,
     "metadata": {},
     "output_type": "execute_result"
    }
   ],
   "source": [
    "# Obtain the optimal decision tree model\n",
    "dt_tuned = grid_cv.best_estimator_\n",
    "\n",
    "# Fit on training set and predict on test set\n",
    "dt_tuned.fit(X_train, y_train)\n",
    "y_pred_tuned = dt_tuned.predict(X_test)\n",
    "\n",
    "# Print the accuracy score on the test set\n",
    "accuracy_score(y_train, dt_tuned.predict(X_train))\n",
    "accuracy_score(y_test, y_pred_tuned)"
   ]
  },
  {
   "cell_type": "markdown",
   "metadata": {},
   "source": [
    "The first model is built using the decision tree classifier from scikit-learn. The decision tree algorithm is easy to interpret and efficient to run. First, we use GridSearchCV to tune the parameters in a decision tree classifier and obtain the optimal classifier. Second, we fit the optimal model to training data so that it learns how to best predict retention, and then predict on test data to obtain the results.\n",
    "\n",
    "The decision tree classifier with tuned parameters provides a model with an accuracy score of 0.75 on the test set. A classification rate of 75% is considered good accuracy. The feature importances from the decision tree classifier shows weekday_pct as the most important predictor of retention and city comes in second. "
   ]
  },
  {
   "cell_type": "code",
   "execution_count": 57,
   "metadata": {},
   "outputs": [
    {
     "data": {
      "image/png": "[encoded data removed]",
      "text/plain": [
       "<Figure size 432x288 with 1 Axes>"
      ]
     },
     "metadata": {
      "needs_background": "light"
     },
     "output_type": "display_data"
    }
   ],
   "source": [
    "# Create series of the feature importances and sort the values\n",
    "importances = pd.Series(dt_tuned.feature_importances_, index=['pc', 'city','trips_in_first_30_days','avg_rating_of_driver','weekday_pct','avg_dist','ultimate_black_user','phone']).sort_values()\n",
    "\n",
    "# Visualize the ranked importance of the features in a horizontal bar plot\n",
    "importances.plot(kind='barh')\n",
    "plt.title('Feature Importances')\n",
    "plt.show();"
   ]
  },
  {
   "cell_type": "markdown",
   "metadata": {},
   "source": [
    "## Gradient Boosting"
   ]
  },
  {
   "cell_type": "code",
   "execution_count": 58,
   "metadata": {},
   "outputs": [
    {
     "data": {
      "text/plain": [
       "0.7767422533539119"
      ]
     },
     "execution_count": 58,
     "metadata": {},
     "output_type": "execute_result"
    }
   ],
   "source": [
    "# Instantiate Gradient Boosting classifier\n",
    "gb = GradientBoostingClassifier(n_estimators=300, max_depth = 3, max_features = 3, min_samples_leaf = 2, random_state=SEED)\n",
    "\n",
    "# Fit to training data\n",
    "gb.fit(X_train, y_train)\n",
    "\n",
    "# Predict the labels on test data\n",
    "y_pred_gb = gb.predict(X_test)\n",
    "\n",
    "# Evaluate the accuracy\n",
    "accuracy_score(y_test, y_pred_gb)"
   ]
  },
  {
   "cell_type": "markdown",
   "metadata": {},
   "source": [
    "The second predictive model is fitted using the Gradient Boosting classifier and its prediction on the test set has an accuracy score of 78%, which is an improvement from the decision tree classifier. The gradient boosting classifier also placed weekday_pct as the top feature in predicting retention, but unlike the decision tree, it placed the principal component which contains avg_surge and surge_pct as the second most important predictor, followed closely by city. \n",
    "\n",
    "Since the gradient boosting classifier has higher accuracy in predicting retention than the decision tree classifier, we will use its feature importances in our interpretation of the final results."
   ]
  },
  {
   "cell_type": "code",
   "execution_count": 63,
   "metadata": {},
   "outputs": [
    {
     "data": {
      "image/png": "[encoded data removed]",
      "text/plain": [
       "<Figure size 432x288 with 1 Axes>"
      ]
     },
     "metadata": {
      "needs_background": "light"
     },
     "output_type": "display_data"
    }
   ],
   "source": [
    "# Create series of the feature importances and sort the values\n",
    "importances = pd.Series(gb.feature_importances_, index=['pc', 'city','trips_in_first_30_days','avg_rating_of_driver','weekday_pct','avg_dist','ultimate_black_user','phone']).sort_values()\n",
    "\n",
    "# Visualize the ranked importance of the features in a horizontal bar plot\n",
    "importances.plot(kind='barh')\n",
    "plt.title('Feature Importances')\n",
    "plt.show();"
   ]
  },
  {
   "cell_type": "code",
   "execution_count": 71,
   "metadata": {},
   "outputs": [
    {
     "data": {
      "text/plain": [
       "count    18803.000000\n",
       "mean        61.388470\n",
       "std         29.488267\n",
       "min          0.000000\n",
       "25%         44.400000\n",
       "50%         64.300000\n",
       "75%         84.600000\n",
       "max        100.000000\n",
       "Name: weekday_pct, dtype: float64"
      ]
     },
     "execution_count": 71,
     "metadata": {},
     "output_type": "execute_result"
    }
   ],
   "source": [
    "# Compare the statistics of weekday_pct for users that are retained (class 1) and not retained (class 0)\n",
    "df[df['retained']==1]['weekday_pct'].describe()"
   ]
  },
  {
   "cell_type": "code",
   "execution_count": 72,
   "metadata": {},
   "outputs": [
    {
     "data": {
      "text/plain": [
       "count    31196.000000\n",
       "mean        60.647032\n",
       "std         40.982688\n",
       "min          0.000000\n",
       "25%         16.700000\n",
       "50%         69.600000\n",
       "75%        100.000000\n",
       "max        100.000000\n",
       "Name: weekday_pct, dtype: float64"
      ]
     },
     "execution_count": 72,
     "metadata": {},
     "output_type": "execute_result"
    }
   ],
   "source": [
    "# statistics of weekday_pct of unretained users\n",
    "df[df['retained']==0]['weekday_pct'].describe()"
   ]
  },
  {
   "cell_type": "markdown",
   "metadata": {},
   "source": [
    "Surprisingly when comparing the weekday_pct of retained and unretained users, the means and medians are very close to each other. The only difference in the distribution of weekday_pct between the two classes is that significantly more unretained users have extreme percentages of rides that occur during the weekdays. Many unretained users have either very low (0 to 10%) or very high (90 to 100%) percentages of weekday rides."
   ]
  },
  {
   "cell_type": "code",
   "execution_count": 70,
   "metadata": {},
   "outputs": [
    {
     "data": {
      "image/png": "[encoded data removed]",
      "text/plain": [
       "<Figure size 432x288 with 1 Axes>"
      ]
     },
     "metadata": {
      "needs_background": "light"
     },
     "output_type": "display_data"
    }
   ],
   "source": [
    "plt.hist(df[df['retained']==1]['weekday_pct'],alpha=0.5,label='retained')\n",
    "plt.hist(df[df['retained']==0]['weekday_pct'],alpha=0.5,label='unretained')\n",
    "plt.title('weekday_pct of retained and unretained users')\n",
    "plt.xlabel('weekday_pct')\n",
    "plt.ylabel('frequency')\n",
    "plt.legend()\n",
    "plt.show();"
   ]
  },
  {
   "cell_type": "markdown",
   "metadata": {},
   "source": [
    "During exploratory data analysis, we saw that Astapor has the poorest retention rate among the cities and King's landing has the best retention rate. Both Astapor and Winterfell have more than double the number of users who have very low or very high percentage of weekday rides."
   ]
  },
  {
   "cell_type": "code",
   "execution_count": 84,
   "metadata": {},
   "outputs": [
    {
     "data": {
      "image/png": "[encoded data removed]",
      "text/plain": [
       "<Figure size 432x288 with 1 Axes>"
      ]
     },
     "metadata": {
      "needs_background": "light"
     },
     "output_type": "display_data"
    }
   ],
   "source": [
    "plt.hist(df[df['city']==1]['weekday_pct'],alpha=0.5,label=\"King's Landing\")\n",
    "plt.hist(df[df['city']==2]['weekday_pct'],alpha=0.5,label='Astapor')\n",
    "plt.hist(df[df['city']==3]['weekday_pct'],alpha=0.5,label='Winterfell')\n",
    "plt.title('weekday_pct of 3 cities')\n",
    "plt.xlabel('weekday_pct')\n",
    "plt.ylabel('frequency')\n",
    "plt.legend()\n",
    "plt.show();"
   ]
  },
  {
   "cell_type": "markdown",
   "metadata": {},
   "source": [
    "For the principal component which contains surge_pct and avg_surge that is the second most important predictor of retention, the main difference in the surge between the two classes is that unretained users take many more trips with surge multiplier greater than 1. Unretained users also have higher average surge multipliers over their trips. "
   ]
  },
  {
   "cell_type": "code",
   "execution_count": 77,
   "metadata": {},
   "outputs": [
    {
     "data": {
      "text/plain": [
       "count    18803.000000\n",
       "mean         9.152518\n",
       "std         15.589071\n",
       "min          0.000000\n",
       "25%          0.000000\n",
       "50%          0.000000\n",
       "75%         13.300000\n",
       "max        100.000000\n",
       "Name: surge_pct, dtype: float64"
      ]
     },
     "execution_count": 77,
     "metadata": {},
     "output_type": "execute_result"
    }
   ],
   "source": [
    "df[df['retained']==1]['surge_pct'].describe()"
   ]
  },
  {
   "cell_type": "code",
   "execution_count": 78,
   "metadata": {},
   "outputs": [
    {
     "data": {
      "text/plain": [
       "count    31196.000000\n",
       "mean         8.666739\n",
       "std         22.179139\n",
       "min          0.000000\n",
       "25%          0.000000\n",
       "50%          0.000000\n",
       "75%          0.000000\n",
       "max        100.000000\n",
       "Name: surge_pct, dtype: float64"
      ]
     },
     "execution_count": 78,
     "metadata": {},
     "output_type": "execute_result"
    }
   ],
   "source": [
    "df[df['retained']==0]['surge_pct'].describe()"
   ]
  },
  {
   "cell_type": "code",
   "execution_count": 73,
   "metadata": {},
   "outputs": [
    {
     "data": {
      "image/png": "[encoded data removed]",
      "text/plain": [
       "<Figure size 432x288 with 1 Axes>"
      ]
     },
     "metadata": {
      "needs_background": "light"
     },
     "output_type": "display_data"
    }
   ],
   "source": [
    "plt.hist(df[df['retained']==1]['surge_pct'],alpha=0.5,label='retained')\n",
    "plt.hist(df[df['retained']==0]['surge_pct'],alpha=0.5,label='unretained')\n",
    "plt.title('surge_pct of retained and unretained users')\n",
    "plt.xlabel('surge_pct')\n",
    "plt.ylabel('frequency')\n",
    "plt.legend()\n",
    "plt.show();"
   ]
  },
  {
   "cell_type": "code",
   "execution_count": 75,
   "metadata": {},
   "outputs": [
    {
     "data": {
      "text/plain": [
       "count    18803.000000\n",
       "mean         1.073807\n",
       "std          0.163174\n",
       "min          1.000000\n",
       "25%          1.000000\n",
       "50%          1.000000\n",
       "75%          1.090000\n",
       "max          4.500000\n",
       "Name: avg_surge, dtype: float64"
      ]
     },
     "execution_count": 75,
     "metadata": {},
     "output_type": "execute_result"
    }
   ],
   "source": [
    "df[df['retained']==1]['avg_surge'].describe()"
   ]
  },
  {
   "cell_type": "code",
   "execution_count": 76,
   "metadata": {},
   "outputs": [
    {
     "data": {
      "text/plain": [
       "count    31196.000000\n",
       "mean         1.075339\n",
       "std          0.251361\n",
       "min          1.000000\n",
       "25%          1.000000\n",
       "50%          1.000000\n",
       "75%          1.000000\n",
       "max          8.000000\n",
       "Name: avg_surge, dtype: float64"
      ]
     },
     "execution_count": 76,
     "metadata": {},
     "output_type": "execute_result"
    }
   ],
   "source": [
    "df[df['retained']==0]['avg_surge'].describe()"
   ]
  },
  {
   "cell_type": "code",
   "execution_count": 74,
   "metadata": {},
   "outputs": [
    {
     "data": {
      "image/png": "[encoded data removed]",
      "text/plain": [
       "<Figure size 432x288 with 1 Axes>"
      ]
     },
     "metadata": {
      "needs_background": "light"
     },
     "output_type": "display_data"
    }
   ],
   "source": [
    "plt.hist(df[df['retained']==1]['avg_surge'],alpha=0.5,label='retained')\n",
    "plt.hist(df[df['retained']==0]['avg_surge'],alpha=0.5,label='unretained')\n",
    "plt.title('avg_surge of retained and unretained users')\n",
    "plt.xlabel('avg_surge')\n",
    "plt.ylabel('frequency')\n",
    "plt.legend()\n",
    "plt.show();"
   ]
  },
  {
   "cell_type": "markdown",
   "metadata": {},
   "source": [
    "Since city is the third most important predictor, comparing the distribution of surge_pct between the 3 cities reveals that King's Landing, the only city with more users retained than not, "
   ]
  },
  {
   "cell_type": "code",
   "execution_count": 81,
   "metadata": {},
   "outputs": [
    {
     "data": {
      "text/plain": [
       "count    10129.000000\n",
       "mean         9.966542\n",
       "std         18.832913\n",
       "min          0.000000\n",
       "25%          0.000000\n",
       "50%          0.000000\n",
       "75%         14.300000\n",
       "max        100.000000\n",
       "Name: surge_pct, dtype: float64"
      ]
     },
     "execution_count": 81,
     "metadata": {},
     "output_type": "execute_result"
    }
   ],
   "source": [
    "df[df['city']==1]['surge_pct'].describe()"
   ]
  },
  {
   "cell_type": "code",
   "execution_count": 82,
   "metadata": {},
   "outputs": [
    {
     "data": {
      "text/plain": [
       "count    16534.000000\n",
       "mean        10.140305\n",
       "std         21.947097\n",
       "min          0.000000\n",
       "25%          0.000000\n",
       "50%          0.000000\n",
       "75%         10.700000\n",
       "max        100.000000\n",
       "Name: surge_pct, dtype: float64"
      ]
     },
     "execution_count": 82,
     "metadata": {},
     "output_type": "execute_result"
    }
   ],
   "source": [
    "df[df['city']==2]['surge_pct'].describe()"
   ]
  },
  {
   "cell_type": "code",
   "execution_count": 83,
   "metadata": {},
   "outputs": [
    {
     "data": {
      "text/plain": [
       "count    23336.000000\n",
       "mean         7.449927\n",
       "std         18.832043\n",
       "min          0.000000\n",
       "25%          0.000000\n",
       "50%          0.000000\n",
       "75%          4.500000\n",
       "max        100.000000\n",
       "Name: surge_pct, dtype: float64"
      ]
     },
     "execution_count": 83,
     "metadata": {},
     "output_type": "execute_result"
    }
   ],
   "source": [
    "df[df['city']==3]['surge_pct'].describe()"
   ]
  },
  {
   "cell_type": "code",
   "execution_count": 79,
   "metadata": {},
   "outputs": [
    {
     "data": {
      "image/png": "[encoded data removed]",
      "text/plain": [
       "<Figure size 432x288 with 1 Axes>"
      ]
     },
     "metadata": {
      "needs_background": "light"
     },
     "output_type": "display_data"
    }
   ],
   "source": [
    "plt.hist(df[df['city']==1]['surge_pct'],alpha=0.5,label=\"King's Landing\")\n",
    "plt.hist(df[df['city']==2]['surge_pct'],alpha=0.5,label='Astapor')\n",
    "plt.hist(df[df['city']==3]['surge_pct'],alpha=0.5,label='Winterfell')\n",
    "plt.title('surge_pct of 3 cities')\n",
    "plt.xlabel('surge_pct')\n",
    "plt.ylabel('frequency')\n",
    "plt.legend()\n",
    "plt.show();"
   ]
  },
  {
   "cell_type": "markdown",
   "metadata": {},
   "source": [
    "#### Q: Briefly discuss how Ultimate might leverage the insights gained from the model to improve its longterm rider retention (again, a few sentences will suffice)."
   ]
  },
  {
   "cell_type": "markdown",
   "metadata": {},
   "source": [
    "A: Findings:\n",
    "1. Users who don't only take weekday or weekend rides, but use the app more consistently both during the week as well as on the weekends are more likely to be retained 6 months after sign up.\n",
    "2. Users in King's Landing take rides more balanced and consistently both on weekdays and on the weekends, whereas users in Astapor and Winterfell tend to take rides only on the weekdays, or only on the weekends.\n",
    "3. Users who experienced less average surge on their rides are more likely to be retained 6 months after sign up.\n",
    "4. Users in King's Landing experienced less average surge on their rides. Users in Astapor and Winterfell experienced more surges and higher average surge on the rides.\n",
    "\n",
    "Perhaps many users who only took a ride on the weekday or weekend used the app as an emergency and had to choose to take the surge multiplied rides regardless of how high the multiplier is. This may have deterred the users from taking rides as an everyday transportation tool. Ultimate could experiment with exempting the surge for first time riders in Astapor and Winterfell to see if it improves retention in these cities. \n"
   ]
  },
  {
   "cell_type": "code",
   "execution_count": null,
   "metadata": {},
   "outputs": [],
   "source": []
  }
 ],
 "metadata": {
  "kernelspec": {
   "display_name": "Python 3",
   "language": "python",
   "name": "python3"
  },
  "language_info": {
   "codemirror_mode": {
    "name": "ipython",
    "version": 3
   },
   "file_extension": ".py",
   "mimetype": "text/x-python",
   "name": "python",
   "nbconvert_exporter": "python",
   "pygments_lexer": "ipython3",
   "version": "3.7.6"
  }
 },
 "nbformat": 4,
 "nbformat_minor": 2
}
